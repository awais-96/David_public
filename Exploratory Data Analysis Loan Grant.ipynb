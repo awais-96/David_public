{
  "nbformat": 4,
  "nbformat_minor": 0,
  "metadata": {
    "colab": {
      "name": "Copy of Loan grant - final.ipynb",
      "provenance": [],
      "collapsed_sections": []
    },
    "kernelspec": {
      "name": "python3",
      "display_name": "Python 3"
    }
  },
  "cells": [
    {
      "cell_type": "code",
      "metadata": {
        "id": "BZq0G93IxVh7"
      },
      "source": [
        "import numpy as np\n",
        "import pandas as pd"
      ],
      "execution_count": null,
      "outputs": []
    },
    {
      "cell_type": "code",
      "metadata": {
        "id": "1bcR6dtvn5w2"
      },
      "source": [
        "#df3 = Normalized matrix before data cleaning with the help of Meta data\n",
        "#df2 is the matrix after data cleaning\n",
        "#df5 is a matrix in which outliers are not removed but it has been somewhat cleaned"
      ],
      "execution_count": null,
      "outputs": []
    },
    {
      "cell_type": "code",
      "metadata": {
        "colab": {
          "base_uri": "https://localhost:8080/"
        },
        "id": "m3Dja1PlxlIn",
        "outputId": "46b688a2-72c7-4be3-a7bc-df3a5cf119f3"
      },
      "source": [
        "df = pd.read_csv (r'/content/drive/MyDrive/Kamyab Jawan/loangrant.csv')\n",
        "df1 = df.copy()"
      ],
      "execution_count": null,
      "outputs": [
        {
          "output_type": "stream",
          "text": [
            "/usr/local/lib/python3.6/dist-packages/IPython/core/interactiveshell.py:2718: DtypeWarning: Columns (10,16) have mixed types.Specify dtype option on import or set low_memory=False.\n",
            "  interactivity=interactivity, compiler=compiler, result=result)\n"
          ],
          "name": "stderr"
        }
      ]
    },
    {
      "cell_type": "code",
      "metadata": {
        "colab": {
          "base_uri": "https://localhost:8080/",
          "height": 1000
        },
        "id": "AWjNPgrbyFcu",
        "outputId": "ef920beb-acce-455e-d148-921c3d276f47"
      },
      "source": [
        "df"
      ],
      "execution_count": null,
      "outputs": [
        {
          "output_type": "execute_result",
          "data": {
            "text/html": [
              "<div>\n",
              "<style scoped>\n",
              "    .dataframe tbody tr th:only-of-type {\n",
              "        vertical-align: middle;\n",
              "    }\n",
              "\n",
              "    .dataframe tbody tr th {\n",
              "        vertical-align: top;\n",
              "    }\n",
              "\n",
              "    .dataframe thead th {\n",
              "        text-align: right;\n",
              "    }\n",
              "</style>\n",
              "<table border=\"1\" class=\"dataframe\">\n",
              "  <thead>\n",
              "    <tr style=\"text-align: right;\">\n",
              "      <th></th>\n",
              "      <th>Loan ID</th>\n",
              "      <th>Customer ID</th>\n",
              "      <th>Loan Status</th>\n",
              "      <th>Current Loan Amount</th>\n",
              "      <th>Term</th>\n",
              "      <th>Credit Score</th>\n",
              "      <th>Years in current job</th>\n",
              "      <th>Home Ownership</th>\n",
              "      <th>Annual Income</th>\n",
              "      <th>Purpose</th>\n",
              "      <th>Monthly Debt</th>\n",
              "      <th>Years of Credit History</th>\n",
              "      <th>Months since last delinquent</th>\n",
              "      <th>Number of Open Accounts</th>\n",
              "      <th>Number of Credit Problems</th>\n",
              "      <th>Current Credit Balance</th>\n",
              "      <th>Maximum Open Credit</th>\n",
              "      <th>Bankruptcies</th>\n",
              "      <th>Tax Liens</th>\n",
              "    </tr>\n",
              "  </thead>\n",
              "  <tbody>\n",
              "    <tr>\n",
              "      <th>0</th>\n",
              "      <td>6cf51492-02a2-423e-b93d-676f05b9ad53</td>\n",
              "      <td>7c202b37-2add-44e8-9aea-d5b119aea935</td>\n",
              "      <td>Charged Off</td>\n",
              "      <td>12232</td>\n",
              "      <td>Short Term</td>\n",
              "      <td>7280.0</td>\n",
              "      <td>&lt; 1 year</td>\n",
              "      <td>Rent</td>\n",
              "      <td>46643.0</td>\n",
              "      <td>Debt Consolidation</td>\n",
              "      <td>777.39</td>\n",
              "      <td>18.0</td>\n",
              "      <td>10.0</td>\n",
              "      <td>12</td>\n",
              "      <td>0</td>\n",
              "      <td>6762</td>\n",
              "      <td>7946</td>\n",
              "      <td>0.0</td>\n",
              "      <td>0.0</td>\n",
              "    </tr>\n",
              "    <tr>\n",
              "      <th>1</th>\n",
              "      <td>552e7ade-4292-4354-9ff9-c48031697d72</td>\n",
              "      <td>e7217b0a-07ac-47dd-b379-577b5a35b7c6</td>\n",
              "      <td>Charged Off</td>\n",
              "      <td>25014</td>\n",
              "      <td>Long Term</td>\n",
              "      <td>7330.0</td>\n",
              "      <td>10+ years</td>\n",
              "      <td>Home Mortgage</td>\n",
              "      <td>81099.0</td>\n",
              "      <td>Debt Consolidation</td>\n",
              "      <td>892.09</td>\n",
              "      <td>26.7</td>\n",
              "      <td>NaN</td>\n",
              "      <td>14</td>\n",
              "      <td>0</td>\n",
              "      <td>35706</td>\n",
              "      <td>77961</td>\n",
              "      <td>0.0</td>\n",
              "      <td>0.0</td>\n",
              "    </tr>\n",
              "    <tr>\n",
              "      <th>2</th>\n",
              "      <td>9b5e32b3-8d76-4801-afc8-d729d5a2e6b9</td>\n",
              "      <td>0a62fc41-16c8-40b5-92ff-9e4b763ce714</td>\n",
              "      <td>Charged Off</td>\n",
              "      <td>16117</td>\n",
              "      <td>Short Term</td>\n",
              "      <td>7240.0</td>\n",
              "      <td>9 years</td>\n",
              "      <td>Home Mortgage</td>\n",
              "      <td>60438.0</td>\n",
              "      <td>Home Improvements</td>\n",
              "      <td>1244.02</td>\n",
              "      <td>16.7</td>\n",
              "      <td>32.0</td>\n",
              "      <td>11</td>\n",
              "      <td>1</td>\n",
              "      <td>11275</td>\n",
              "      <td>14815</td>\n",
              "      <td>1.0</td>\n",
              "      <td>0.0</td>\n",
              "    </tr>\n",
              "    <tr>\n",
              "      <th>3</th>\n",
              "      <td>5419b7c7-ac11-4be2-a8a7-b131fb6d6dbe</td>\n",
              "      <td>30f36c59-5182-4482-8bbb-5b736849ae43</td>\n",
              "      <td>Charged Off</td>\n",
              "      <td>11716</td>\n",
              "      <td>Short Term</td>\n",
              "      <td>7400.0</td>\n",
              "      <td>3 years</td>\n",
              "      <td>Rent</td>\n",
              "      <td>34171.0</td>\n",
              "      <td>Debt Consolidation</td>\n",
              "      <td>990.94</td>\n",
              "      <td>10.0</td>\n",
              "      <td>NaN</td>\n",
              "      <td>21</td>\n",
              "      <td>0</td>\n",
              "      <td>7009</td>\n",
              "      <td>43533</td>\n",
              "      <td>0.0</td>\n",
              "      <td>0.0</td>\n",
              "    </tr>\n",
              "    <tr>\n",
              "      <th>4</th>\n",
              "      <td>1450910f-9495-4fc9-afaf-9bdf4b9821df</td>\n",
              "      <td>70c26012-bba5-42c0-8dcb-75295ada31bb</td>\n",
              "      <td>Charged Off</td>\n",
              "      <td>9789</td>\n",
              "      <td>Long Term</td>\n",
              "      <td>6860.0</td>\n",
              "      <td>10+ years</td>\n",
              "      <td>Home Mortgage</td>\n",
              "      <td>47003.0</td>\n",
              "      <td>Home Improvements</td>\n",
              "      <td>503.71</td>\n",
              "      <td>16.7</td>\n",
              "      <td>25.0</td>\n",
              "      <td>13</td>\n",
              "      <td>1</td>\n",
              "      <td>16913</td>\n",
              "      <td>19553</td>\n",
              "      <td>1.0</td>\n",
              "      <td>0.0</td>\n",
              "    </tr>\n",
              "    <tr>\n",
              "      <th>...</th>\n",
              "      <td>...</td>\n",
              "      <td>...</td>\n",
              "      <td>...</td>\n",
              "      <td>...</td>\n",
              "      <td>...</td>\n",
              "      <td>...</td>\n",
              "      <td>...</td>\n",
              "      <td>...</td>\n",
              "      <td>...</td>\n",
              "      <td>...</td>\n",
              "      <td>...</td>\n",
              "      <td>...</td>\n",
              "      <td>...</td>\n",
              "      <td>...</td>\n",
              "      <td>...</td>\n",
              "      <td>...</td>\n",
              "      <td>...</td>\n",
              "      <td>...</td>\n",
              "      <td>...</td>\n",
              "    </tr>\n",
              "    <tr>\n",
              "      <th>111102</th>\n",
              "      <td>503f01e2-c3c4-4b10-886e-f15de57b6f1a</td>\n",
              "      <td>27a17610-1d8c-48a7-b0db-2d81a4fa099a</td>\n",
              "      <td>Fully Paid</td>\n",
              "      <td>15654</td>\n",
              "      <td>Long Term</td>\n",
              "      <td>686.0</td>\n",
              "      <td>10+ years</td>\n",
              "      <td>Rent</td>\n",
              "      <td>43050.0</td>\n",
              "      <td>Debt Consolidation</td>\n",
              "      <td>889.69</td>\n",
              "      <td>14.1</td>\n",
              "      <td>49.0</td>\n",
              "      <td>18</td>\n",
              "      <td>0</td>\n",
              "      <td>14730</td>\n",
              "      <td>29757</td>\n",
              "      <td>0.0</td>\n",
              "      <td>0.0</td>\n",
              "    </tr>\n",
              "    <tr>\n",
              "      <th>111103</th>\n",
              "      <td>8af53bc0-56a4-4801-a960-52a46a90b33f</td>\n",
              "      <td>c124ca71-f42a-47cc-8ec2-236f7e9868a5</td>\n",
              "      <td>Fully Paid</td>\n",
              "      <td>15237</td>\n",
              "      <td>Short Term</td>\n",
              "      <td>706.0</td>\n",
              "      <td>10+ years</td>\n",
              "      <td>Home Mortgage</td>\n",
              "      <td>60948.0</td>\n",
              "      <td>Debt Consolidation</td>\n",
              "      <td>700.9</td>\n",
              "      <td>15.9</td>\n",
              "      <td>48.0</td>\n",
              "      <td>11</td>\n",
              "      <td>0</td>\n",
              "      <td>17733</td>\n",
              "      <td>23060</td>\n",
              "      <td>0.0</td>\n",
              "      <td>0.0</td>\n",
              "    </tr>\n",
              "    <tr>\n",
              "      <th>111104</th>\n",
              "      <td>96efd327-f965-42ae-8b2b-d2555205ce19</td>\n",
              "      <td>7d959a54-8eeb-4df6-b582-046f889e4cff</td>\n",
              "      <td>Fully Paid</td>\n",
              "      <td>10413</td>\n",
              "      <td>Short Term</td>\n",
              "      <td>719.0</td>\n",
              "      <td>5 years</td>\n",
              "      <td>Home Mortgage</td>\n",
              "      <td>66945.0</td>\n",
              "      <td>Debt Consolidation</td>\n",
              "      <td>1210.59</td>\n",
              "      <td>8.7</td>\n",
              "      <td>NaN</td>\n",
              "      <td>11</td>\n",
              "      <td>0</td>\n",
              "      <td>5205</td>\n",
              "      <td>6348</td>\n",
              "      <td>0.0</td>\n",
              "      <td>0.0</td>\n",
              "    </tr>\n",
              "    <tr>\n",
              "      <th>111105</th>\n",
              "      <td>ec19166c-70c5-4d49-adb6-fb3fc15024a2</td>\n",
              "      <td>5723fbf2-1ce8-4752-8bee-1bebf339f278</td>\n",
              "      <td>Fully Paid</td>\n",
              "      <td>34447</td>\n",
              "      <td>Short Term</td>\n",
              "      <td>626.0</td>\n",
              "      <td>10+ years</td>\n",
              "      <td>Home Mortgage</td>\n",
              "      <td>78736.0</td>\n",
              "      <td>Debt Consolidation</td>\n",
              "      <td>1476.3</td>\n",
              "      <td>30.4</td>\n",
              "      <td>9.0</td>\n",
              "      <td>12</td>\n",
              "      <td>0</td>\n",
              "      <td>32318</td>\n",
              "      <td>37580</td>\n",
              "      <td>0.0</td>\n",
              "      <td>0.0</td>\n",
              "    </tr>\n",
              "    <tr>\n",
              "      <th>111106</th>\n",
              "      <td>f83ae0e1-bd30-46c7-9f72-f4f9fe2f36ca</td>\n",
              "      <td>74187e35-39c2-4010-ae0d-8bcd0544189e</td>\n",
              "      <td>Fully Paid</td>\n",
              "      <td>9209</td>\n",
              "      <td>Long Term</td>\n",
              "      <td>708.0</td>\n",
              "      <td>&lt; 1 year</td>\n",
              "      <td>Own Home</td>\n",
              "      <td>123454.0</td>\n",
              "      <td>Debt Consolidation</td>\n",
              "      <td>668.71</td>\n",
              "      <td>20.1</td>\n",
              "      <td>16.0</td>\n",
              "      <td>8</td>\n",
              "      <td>0</td>\n",
              "      <td>6835</td>\n",
              "      <td>9261</td>\n",
              "      <td>0.0</td>\n",
              "      <td>0.0</td>\n",
              "    </tr>\n",
              "  </tbody>\n",
              "</table>\n",
              "<p>111107 rows × 19 columns</p>\n",
              "</div>"
            ],
            "text/plain": [
              "                                     Loan ID  ... Tax Liens\n",
              "0       6cf51492-02a2-423e-b93d-676f05b9ad53  ...       0.0\n",
              "1       552e7ade-4292-4354-9ff9-c48031697d72  ...       0.0\n",
              "2       9b5e32b3-8d76-4801-afc8-d729d5a2e6b9  ...       0.0\n",
              "3       5419b7c7-ac11-4be2-a8a7-b131fb6d6dbe  ...       0.0\n",
              "4       1450910f-9495-4fc9-afaf-9bdf4b9821df  ...       0.0\n",
              "...                                      ...  ...       ...\n",
              "111102  503f01e2-c3c4-4b10-886e-f15de57b6f1a  ...       0.0\n",
              "111103  8af53bc0-56a4-4801-a960-52a46a90b33f  ...       0.0\n",
              "111104  96efd327-f965-42ae-8b2b-d2555205ce19  ...       0.0\n",
              "111105  ec19166c-70c5-4d49-adb6-fb3fc15024a2  ...       0.0\n",
              "111106  f83ae0e1-bd30-46c7-9f72-f4f9fe2f36ca  ...       0.0\n",
              "\n",
              "[111107 rows x 19 columns]"
            ]
          },
          "metadata": {
            "tags": []
          },
          "execution_count": 149
        }
      ]
    },
    {
      "cell_type": "code",
      "metadata": {
        "colab": {
          "base_uri": "https://localhost:8080/"
        },
        "id": "nZgVN6KU2Rsx",
        "outputId": "5132c9d1-e48c-4159-fbca-15b7ef5dbdd2"
      },
      "source": [
        "df['Credit Score'].std()"
      ],
      "execution_count": null,
      "outputs": [
        {
          "output_type": "execute_result",
          "data": {
            "text/plain": [
              "1474.1335052754148"
            ]
          },
          "metadata": {
            "tags": []
          },
          "execution_count": 150
        }
      ]
    },
    {
      "cell_type": "code",
      "metadata": {
        "colab": {
          "base_uri": "https://localhost:8080/"
        },
        "id": "XCuSfci52kYW",
        "outputId": "c32f8c71-7644-4bd9-9006-6c59197d52ce"
      },
      "source": [
        "df['Credit Score'].isnull().sum()"
      ],
      "execution_count": null,
      "outputs": [
        {
          "output_type": "execute_result",
          "data": {
            "text/plain": [
              "21338"
            ]
          },
          "metadata": {
            "tags": []
          },
          "execution_count": 151
        }
      ]
    },
    {
      "cell_type": "code",
      "metadata": {
        "colab": {
          "base_uri": "https://localhost:8080/"
        },
        "id": "EIP39fHcyGkZ",
        "outputId": "ba895ea1-7ba4-4a0d-a59b-6b3dcf383832"
      },
      "source": [
        "b = df['Credit Score'].mean()\n",
        "print(b)"
      ],
      "execution_count": null,
      "outputs": [
        {
          "output_type": "stream",
          "text": [
            "1075.7950294645145\n"
          ],
          "name": "stdout"
        }
      ]
    },
    {
      "cell_type": "code",
      "metadata": {
        "id": "4YJpcPpK1Bvs"
      },
      "source": [
        "df['Credit Score'].fillna(value=b, inplace=True)"
      ],
      "execution_count": null,
      "outputs": []
    },
    {
      "cell_type": "code",
      "metadata": {
        "colab": {
          "base_uri": "https://localhost:8080/"
        },
        "id": "f-ZAcQ_w1On7",
        "outputId": "09701bf7-afe5-4220-92b6-b5ca3c2c4fec"
      },
      "source": [
        "df['Credit Score'].isnull().sum()"
      ],
      "execution_count": null,
      "outputs": [
        {
          "output_type": "execute_result",
          "data": {
            "text/plain": [
              "0"
            ]
          },
          "metadata": {
            "tags": []
          },
          "execution_count": 154
        }
      ]
    },
    {
      "cell_type": "code",
      "metadata": {
        "colab": {
          "base_uri": "https://localhost:8080/"
        },
        "id": "hHkUf5db4Jiv",
        "outputId": "a2a4f73d-ab8b-4278-a5ef-dab3966fe68f"
      },
      "source": [
        "df['Credit Score'].std()"
      ],
      "execution_count": null,
      "outputs": [
        {
          "output_type": "execute_result",
          "data": {
            "text/plain": [
              "1325.0395327220253"
            ]
          },
          "metadata": {
            "tags": []
          },
          "execution_count": 155
        }
      ]
    },
    {
      "cell_type": "code",
      "metadata": {
        "colab": {
          "base_uri": "https://localhost:8080/"
        },
        "id": "eAO3Kzrp4LIe",
        "outputId": "b68b49de-8afc-4c72-b2d8-e99177fdba22"
      },
      "source": [
        "b = df1['Credit Score'].median()\n",
        "print(b)"
      ],
      "execution_count": null,
      "outputs": [
        {
          "output_type": "stream",
          "text": [
            "724.0\n"
          ],
          "name": "stdout"
        }
      ]
    },
    {
      "cell_type": "code",
      "metadata": {
        "id": "kcJw2t_k4PS_"
      },
      "source": [
        "df1['Credit Score'].fillna(value=b, inplace=True)"
      ],
      "execution_count": null,
      "outputs": []
    },
    {
      "cell_type": "code",
      "metadata": {
        "colab": {
          "base_uri": "https://localhost:8080/"
        },
        "id": "KDlgLOV_4PSb",
        "outputId": "307e735a-f792-4817-dd15-1a984594fe9e"
      },
      "source": [
        "df1['Credit Score'].std()"
      ],
      "execution_count": null,
      "outputs": [
        {
          "output_type": "execute_result",
          "data": {
            "text/plain": [
              "1332.2662162278477"
            ]
          },
          "metadata": {
            "tags": []
          },
          "execution_count": 158
        }
      ]
    },
    {
      "cell_type": "code",
      "metadata": {
        "colab": {
          "base_uri": "https://localhost:8080/"
        },
        "id": "HnrzvEtS4PR3",
        "outputId": "5a83d1c1-3d0d-4fb6-dd56-e1b94aee6112"
      },
      "source": [
        "dt = df1.isnull()\n",
        "print(dt.sum())"
      ],
      "execution_count": null,
      "outputs": [
        {
          "output_type": "stream",
          "text": [
            "Loan ID                             0\n",
            "Customer ID                         0\n",
            "Loan Status                         0\n",
            "Current Loan Amount                 0\n",
            "Term                                0\n",
            "Credit Score                        0\n",
            "Years in current job             4693\n",
            "Home Ownership                      0\n",
            "Annual Income                   21338\n",
            "Purpose                             0\n",
            "Monthly Debt                        0\n",
            "Years of Credit History             0\n",
            "Months since last delinquent    59003\n",
            "Number of Open Accounts             0\n",
            "Number of Credit Problems           0\n",
            "Current Credit Balance              0\n",
            "Maximum Open Credit                 0\n",
            "Bankruptcies                      228\n",
            "Tax Liens                          11\n",
            "dtype: int64\n"
          ],
          "name": "stdout"
        }
      ]
    },
    {
      "cell_type": "code",
      "metadata": {
        "colab": {
          "base_uri": "https://localhost:8080/",
          "height": 331
        },
        "id": "_IpRZ1cR5qzV",
        "outputId": "9729330c-29da-4c38-d84d-ab8dba77dc85"
      },
      "source": [
        "df1.describe()"
      ],
      "execution_count": null,
      "outputs": [
        {
          "output_type": "execute_result",
          "data": {
            "text/html": [
              "<div>\n",
              "<style scoped>\n",
              "    .dataframe tbody tr th:only-of-type {\n",
              "        vertical-align: middle;\n",
              "    }\n",
              "\n",
              "    .dataframe tbody tr th {\n",
              "        vertical-align: top;\n",
              "    }\n",
              "\n",
              "    .dataframe thead th {\n",
              "        text-align: right;\n",
              "    }\n",
              "</style>\n",
              "<table border=\"1\" class=\"dataframe\">\n",
              "  <thead>\n",
              "    <tr style=\"text-align: right;\">\n",
              "      <th></th>\n",
              "      <th>Current Loan Amount</th>\n",
              "      <th>Credit Score</th>\n",
              "      <th>Annual Income</th>\n",
              "      <th>Years of Credit History</th>\n",
              "      <th>Months since last delinquent</th>\n",
              "      <th>Number of Open Accounts</th>\n",
              "      <th>Number of Credit Problems</th>\n",
              "      <th>Current Credit Balance</th>\n",
              "      <th>Bankruptcies</th>\n",
              "      <th>Tax Liens</th>\n",
              "    </tr>\n",
              "  </thead>\n",
              "  <tbody>\n",
              "    <tr>\n",
              "      <th>count</th>\n",
              "      <td>1.111070e+05</td>\n",
              "      <td>111107.000000</td>\n",
              "      <td>8.976900e+04</td>\n",
              "      <td>111107.000000</td>\n",
              "      <td>52104.000000</td>\n",
              "      <td>111107.000000</td>\n",
              "      <td>111107.000000</td>\n",
              "      <td>1.111070e+05</td>\n",
              "      <td>110879.00000</td>\n",
              "      <td>111096.000000</td>\n",
              "    </tr>\n",
              "    <tr>\n",
              "      <th>mean</th>\n",
              "      <td>1.147718e+07</td>\n",
              "      <td>1008.233109</td>\n",
              "      <td>7.248600e+04</td>\n",
              "      <td>18.201003</td>\n",
              "      <td>34.902272</td>\n",
              "      <td>11.125105</td>\n",
              "      <td>0.168027</td>\n",
              "      <td>1.548314e+04</td>\n",
              "      <td>0.11766</td>\n",
              "      <td>0.029353</td>\n",
              "    </tr>\n",
              "    <tr>\n",
              "      <th>std</th>\n",
              "      <td>3.185508e+07</td>\n",
              "      <td>1332.266216</td>\n",
              "      <td>5.593094e+04</td>\n",
              "      <td>7.014495</td>\n",
              "      <td>21.970696</td>\n",
              "      <td>5.010267</td>\n",
              "      <td>0.484212</td>\n",
              "      <td>1.982115e+04</td>\n",
              "      <td>0.35142</td>\n",
              "      <td>0.260575</td>\n",
              "    </tr>\n",
              "    <tr>\n",
              "      <th>min</th>\n",
              "      <td>4.910000e+02</td>\n",
              "      <td>585.000000</td>\n",
              "      <td>4.033000e+03</td>\n",
              "      <td>3.600000</td>\n",
              "      <td>0.000000</td>\n",
              "      <td>0.000000</td>\n",
              "      <td>0.000000</td>\n",
              "      <td>0.000000e+00</td>\n",
              "      <td>0.00000</td>\n",
              "      <td>0.000000</td>\n",
              "    </tr>\n",
              "    <tr>\n",
              "      <th>25%</th>\n",
              "      <td>8.162000e+03</td>\n",
              "      <td>711.000000</td>\n",
              "      <td>4.468800e+04</td>\n",
              "      <td>13.500000</td>\n",
              "      <td>16.000000</td>\n",
              "      <td>8.000000</td>\n",
              "      <td>0.000000</td>\n",
              "      <td>5.905000e+03</td>\n",
              "      <td>0.00000</td>\n",
              "      <td>0.000000</td>\n",
              "    </tr>\n",
              "    <tr>\n",
              "      <th>50%</th>\n",
              "      <td>1.418300e+04</td>\n",
              "      <td>724.000000</td>\n",
              "      <td>6.175200e+04</td>\n",
              "      <td>16.900000</td>\n",
              "      <td>32.000000</td>\n",
              "      <td>10.000000</td>\n",
              "      <td>0.000000</td>\n",
              "      <td>1.102700e+04</td>\n",
              "      <td>0.00000</td>\n",
              "      <td>0.000000</td>\n",
              "    </tr>\n",
              "    <tr>\n",
              "      <th>75%</th>\n",
              "      <td>2.382200e+04</td>\n",
              "      <td>738.000000</td>\n",
              "      <td>8.688700e+04</td>\n",
              "      <td>21.700000</td>\n",
              "      <td>51.000000</td>\n",
              "      <td>14.000000</td>\n",
              "      <td>0.000000</td>\n",
              "      <td>1.933800e+04</td>\n",
              "      <td>0.00000</td>\n",
              "      <td>0.000000</td>\n",
              "    </tr>\n",
              "    <tr>\n",
              "      <th>max</th>\n",
              "      <td>1.000000e+08</td>\n",
              "      <td>7510.000000</td>\n",
              "      <td>8.713547e+06</td>\n",
              "      <td>70.500000</td>\n",
              "      <td>176.000000</td>\n",
              "      <td>76.000000</td>\n",
              "      <td>15.000000</td>\n",
              "      <td>1.730472e+06</td>\n",
              "      <td>7.00000</td>\n",
              "      <td>15.000000</td>\n",
              "    </tr>\n",
              "  </tbody>\n",
              "</table>\n",
              "</div>"
            ],
            "text/plain": [
              "       Current Loan Amount   Credit Score  ...  Bankruptcies      Tax Liens\n",
              "count         1.111070e+05  111107.000000  ...  110879.00000  111096.000000\n",
              "mean          1.147718e+07    1008.233109  ...       0.11766       0.029353\n",
              "std           3.185508e+07    1332.266216  ...       0.35142       0.260575\n",
              "min           4.910000e+02     585.000000  ...       0.00000       0.000000\n",
              "25%           8.162000e+03     711.000000  ...       0.00000       0.000000\n",
              "50%           1.418300e+04     724.000000  ...       0.00000       0.000000\n",
              "75%           2.382200e+04     738.000000  ...       0.00000       0.000000\n",
              "max           1.000000e+08    7510.000000  ...       7.00000      15.000000\n",
              "\n",
              "[8 rows x 10 columns]"
            ]
          },
          "metadata": {
            "tags": []
          },
          "execution_count": 160
        }
      ]
    },
    {
      "cell_type": "code",
      "metadata": {
        "id": "7tVUnBXL7PrC"
      },
      "source": [
        "df1['Years in current job'].fillna(value=0, inplace=True)"
      ],
      "execution_count": null,
      "outputs": []
    },
    {
      "cell_type": "code",
      "metadata": {
        "colab": {
          "base_uri": "https://localhost:8080/"
        },
        "id": "hhBzO3iz8Ahw",
        "outputId": "bea704a6-7930-4007-b5ca-80e003fb1406"
      },
      "source": [
        "dt = df1.isnull()\n",
        "print(dt.sum())"
      ],
      "execution_count": null,
      "outputs": [
        {
          "output_type": "stream",
          "text": [
            "Loan ID                             0\n",
            "Customer ID                         0\n",
            "Loan Status                         0\n",
            "Current Loan Amount                 0\n",
            "Term                                0\n",
            "Credit Score                        0\n",
            "Years in current job                0\n",
            "Home Ownership                      0\n",
            "Annual Income                   21338\n",
            "Purpose                             0\n",
            "Monthly Debt                        0\n",
            "Years of Credit History             0\n",
            "Months since last delinquent    59003\n",
            "Number of Open Accounts             0\n",
            "Number of Credit Problems           0\n",
            "Current Credit Balance              0\n",
            "Maximum Open Credit                 0\n",
            "Bankruptcies                      228\n",
            "Tax Liens                          11\n",
            "dtype: int64\n"
          ],
          "name": "stdout"
        }
      ]
    },
    {
      "cell_type": "code",
      "metadata": {
        "id": "mVvspWM08G9I"
      },
      "source": [
        "df1['Annual Income'].fillna(value=df['Annual Income'].median(), inplace=True)"
      ],
      "execution_count": null,
      "outputs": []
    },
    {
      "cell_type": "code",
      "metadata": {
        "colab": {
          "base_uri": "https://localhost:8080/"
        },
        "id": "OZGyLiPX8UJX",
        "outputId": "6a1887b7-5d84-4098-e174-d25c309d0aca"
      },
      "source": [
        "dt = df1.isnull()\n",
        "print(dt.sum())"
      ],
      "execution_count": null,
      "outputs": [
        {
          "output_type": "stream",
          "text": [
            "Loan ID                             0\n",
            "Customer ID                         0\n",
            "Loan Status                         0\n",
            "Current Loan Amount                 0\n",
            "Term                                0\n",
            "Credit Score                        0\n",
            "Years in current job                0\n",
            "Home Ownership                      0\n",
            "Annual Income                       0\n",
            "Purpose                             0\n",
            "Monthly Debt                        0\n",
            "Years of Credit History             0\n",
            "Months since last delinquent    59003\n",
            "Number of Open Accounts             0\n",
            "Number of Credit Problems           0\n",
            "Current Credit Balance              0\n",
            "Maximum Open Credit                 0\n",
            "Bankruptcies                      228\n",
            "Tax Liens                          11\n",
            "dtype: int64\n"
          ],
          "name": "stdout"
        }
      ]
    },
    {
      "cell_type": "code",
      "metadata": {
        "id": "PIPhN8HM8YSY"
      },
      "source": [
        "df1['Months since last delinquent'].fillna(value=df['Months since last delinquent'].median(), inplace=True)"
      ],
      "execution_count": null,
      "outputs": []
    },
    {
      "cell_type": "code",
      "metadata": {
        "colab": {
          "base_uri": "https://localhost:8080/"
        },
        "id": "XVDTkvJy8ize",
        "outputId": "2846ba18-80e2-4582-f3df-c338b0355b81"
      },
      "source": [
        "dt = df1.isnull()\n",
        "print(dt.sum())"
      ],
      "execution_count": null,
      "outputs": [
        {
          "output_type": "stream",
          "text": [
            "Loan ID                           0\n",
            "Customer ID                       0\n",
            "Loan Status                       0\n",
            "Current Loan Amount               0\n",
            "Term                              0\n",
            "Credit Score                      0\n",
            "Years in current job              0\n",
            "Home Ownership                    0\n",
            "Annual Income                     0\n",
            "Purpose                           0\n",
            "Monthly Debt                      0\n",
            "Years of Credit History           0\n",
            "Months since last delinquent      0\n",
            "Number of Open Accounts           0\n",
            "Number of Credit Problems         0\n",
            "Current Credit Balance            0\n",
            "Maximum Open Credit               0\n",
            "Bankruptcies                    228\n",
            "Tax Liens                        11\n",
            "dtype: int64\n"
          ],
          "name": "stdout"
        }
      ]
    },
    {
      "cell_type": "code",
      "metadata": {
        "id": "lCLKx0N_8ka-"
      },
      "source": [
        "df1['Bankruptcies'].fillna(value=0, inplace=True)"
      ],
      "execution_count": null,
      "outputs": []
    },
    {
      "cell_type": "code",
      "metadata": {
        "colab": {
          "base_uri": "https://localhost:8080/"
        },
        "id": "AiO5ZS5z8wt3",
        "outputId": "6c869d5f-374f-4ae5-e7e3-74e85543e5b9"
      },
      "source": [
        "dt = df1.isnull()\n",
        "print(dt.sum())"
      ],
      "execution_count": null,
      "outputs": [
        {
          "output_type": "stream",
          "text": [
            "Loan ID                          0\n",
            "Customer ID                      0\n",
            "Loan Status                      0\n",
            "Current Loan Amount              0\n",
            "Term                             0\n",
            "Credit Score                     0\n",
            "Years in current job             0\n",
            "Home Ownership                   0\n",
            "Annual Income                    0\n",
            "Purpose                          0\n",
            "Monthly Debt                     0\n",
            "Years of Credit History          0\n",
            "Months since last delinquent     0\n",
            "Number of Open Accounts          0\n",
            "Number of Credit Problems        0\n",
            "Current Credit Balance           0\n",
            "Maximum Open Credit              0\n",
            "Bankruptcies                     0\n",
            "Tax Liens                       11\n",
            "dtype: int64\n"
          ],
          "name": "stdout"
        }
      ]
    },
    {
      "cell_type": "code",
      "metadata": {
        "id": "VOsfX-hd8yE_"
      },
      "source": [
        "df1['Tax Liens'].fillna(value=0, inplace=True)"
      ],
      "execution_count": null,
      "outputs": []
    },
    {
      "cell_type": "code",
      "metadata": {
        "colab": {
          "base_uri": "https://localhost:8080/"
        },
        "id": "YWmLrp_U85K_",
        "outputId": "cb8ec43d-7501-4c66-e6cb-768f4f736db1"
      },
      "source": [
        "dt = df1.isnull()\n",
        "print(dt.sum())"
      ],
      "execution_count": null,
      "outputs": [
        {
          "output_type": "stream",
          "text": [
            "Loan ID                         0\n",
            "Customer ID                     0\n",
            "Loan Status                     0\n",
            "Current Loan Amount             0\n",
            "Term                            0\n",
            "Credit Score                    0\n",
            "Years in current job            0\n",
            "Home Ownership                  0\n",
            "Annual Income                   0\n",
            "Purpose                         0\n",
            "Monthly Debt                    0\n",
            "Years of Credit History         0\n",
            "Months since last delinquent    0\n",
            "Number of Open Accounts         0\n",
            "Number of Credit Problems       0\n",
            "Current Credit Balance          0\n",
            "Maximum Open Credit             0\n",
            "Bankruptcies                    0\n",
            "Tax Liens                       0\n",
            "dtype: int64\n"
          ],
          "name": "stdout"
        }
      ]
    },
    {
      "cell_type": "code",
      "metadata": {
        "id": "O4hpfFR19Ba2"
      },
      "source": [
        "df1.drop_duplicates(inplace=True)"
      ],
      "execution_count": null,
      "outputs": []
    },
    {
      "cell_type": "code",
      "metadata": {
        "id": "bb0ODc5T-s5l",
        "colab": {
          "base_uri": "https://localhost:8080/",
          "height": 1000
        },
        "outputId": "2c14a10c-9b78-4e38-8f80-85012e729180"
      },
      "source": [
        "df1"
      ],
      "execution_count": null,
      "outputs": [
        {
          "output_type": "execute_result",
          "data": {
            "text/html": [
              "<div>\n",
              "<style scoped>\n",
              "    .dataframe tbody tr th:only-of-type {\n",
              "        vertical-align: middle;\n",
              "    }\n",
              "\n",
              "    .dataframe tbody tr th {\n",
              "        vertical-align: top;\n",
              "    }\n",
              "\n",
              "    .dataframe thead th {\n",
              "        text-align: right;\n",
              "    }\n",
              "</style>\n",
              "<table border=\"1\" class=\"dataframe\">\n",
              "  <thead>\n",
              "    <tr style=\"text-align: right;\">\n",
              "      <th></th>\n",
              "      <th>Loan ID</th>\n",
              "      <th>Customer ID</th>\n",
              "      <th>Loan Status</th>\n",
              "      <th>Current Loan Amount</th>\n",
              "      <th>Term</th>\n",
              "      <th>Credit Score</th>\n",
              "      <th>Years in current job</th>\n",
              "      <th>Home Ownership</th>\n",
              "      <th>Annual Income</th>\n",
              "      <th>Purpose</th>\n",
              "      <th>Monthly Debt</th>\n",
              "      <th>Years of Credit History</th>\n",
              "      <th>Months since last delinquent</th>\n",
              "      <th>Number of Open Accounts</th>\n",
              "      <th>Number of Credit Problems</th>\n",
              "      <th>Current Credit Balance</th>\n",
              "      <th>Maximum Open Credit</th>\n",
              "      <th>Bankruptcies</th>\n",
              "      <th>Tax Liens</th>\n",
              "    </tr>\n",
              "  </thead>\n",
              "  <tbody>\n",
              "    <tr>\n",
              "      <th>0</th>\n",
              "      <td>6cf51492-02a2-423e-b93d-676f05b9ad53</td>\n",
              "      <td>7c202b37-2add-44e8-9aea-d5b119aea935</td>\n",
              "      <td>Charged Off</td>\n",
              "      <td>12232</td>\n",
              "      <td>Short Term</td>\n",
              "      <td>7280.0</td>\n",
              "      <td>&lt; 1 year</td>\n",
              "      <td>Rent</td>\n",
              "      <td>46643.0</td>\n",
              "      <td>Debt Consolidation</td>\n",
              "      <td>777.39</td>\n",
              "      <td>18.0</td>\n",
              "      <td>10.0</td>\n",
              "      <td>12</td>\n",
              "      <td>0</td>\n",
              "      <td>6762</td>\n",
              "      <td>7946</td>\n",
              "      <td>0.0</td>\n",
              "      <td>0.0</td>\n",
              "    </tr>\n",
              "    <tr>\n",
              "      <th>1</th>\n",
              "      <td>552e7ade-4292-4354-9ff9-c48031697d72</td>\n",
              "      <td>e7217b0a-07ac-47dd-b379-577b5a35b7c6</td>\n",
              "      <td>Charged Off</td>\n",
              "      <td>25014</td>\n",
              "      <td>Long Term</td>\n",
              "      <td>7330.0</td>\n",
              "      <td>10+ years</td>\n",
              "      <td>Home Mortgage</td>\n",
              "      <td>81099.0</td>\n",
              "      <td>Debt Consolidation</td>\n",
              "      <td>892.09</td>\n",
              "      <td>26.7</td>\n",
              "      <td>32.0</td>\n",
              "      <td>14</td>\n",
              "      <td>0</td>\n",
              "      <td>35706</td>\n",
              "      <td>77961</td>\n",
              "      <td>0.0</td>\n",
              "      <td>0.0</td>\n",
              "    </tr>\n",
              "    <tr>\n",
              "      <th>2</th>\n",
              "      <td>9b5e32b3-8d76-4801-afc8-d729d5a2e6b9</td>\n",
              "      <td>0a62fc41-16c8-40b5-92ff-9e4b763ce714</td>\n",
              "      <td>Charged Off</td>\n",
              "      <td>16117</td>\n",
              "      <td>Short Term</td>\n",
              "      <td>7240.0</td>\n",
              "      <td>9 years</td>\n",
              "      <td>Home Mortgage</td>\n",
              "      <td>60438.0</td>\n",
              "      <td>Home Improvements</td>\n",
              "      <td>1244.02</td>\n",
              "      <td>16.7</td>\n",
              "      <td>32.0</td>\n",
              "      <td>11</td>\n",
              "      <td>1</td>\n",
              "      <td>11275</td>\n",
              "      <td>14815</td>\n",
              "      <td>1.0</td>\n",
              "      <td>0.0</td>\n",
              "    </tr>\n",
              "    <tr>\n",
              "      <th>3</th>\n",
              "      <td>5419b7c7-ac11-4be2-a8a7-b131fb6d6dbe</td>\n",
              "      <td>30f36c59-5182-4482-8bbb-5b736849ae43</td>\n",
              "      <td>Charged Off</td>\n",
              "      <td>11716</td>\n",
              "      <td>Short Term</td>\n",
              "      <td>7400.0</td>\n",
              "      <td>3 years</td>\n",
              "      <td>Rent</td>\n",
              "      <td>34171.0</td>\n",
              "      <td>Debt Consolidation</td>\n",
              "      <td>990.94</td>\n",
              "      <td>10.0</td>\n",
              "      <td>32.0</td>\n",
              "      <td>21</td>\n",
              "      <td>0</td>\n",
              "      <td>7009</td>\n",
              "      <td>43533</td>\n",
              "      <td>0.0</td>\n",
              "      <td>0.0</td>\n",
              "    </tr>\n",
              "    <tr>\n",
              "      <th>4</th>\n",
              "      <td>1450910f-9495-4fc9-afaf-9bdf4b9821df</td>\n",
              "      <td>70c26012-bba5-42c0-8dcb-75295ada31bb</td>\n",
              "      <td>Charged Off</td>\n",
              "      <td>9789</td>\n",
              "      <td>Long Term</td>\n",
              "      <td>6860.0</td>\n",
              "      <td>10+ years</td>\n",
              "      <td>Home Mortgage</td>\n",
              "      <td>47003.0</td>\n",
              "      <td>Home Improvements</td>\n",
              "      <td>503.71</td>\n",
              "      <td>16.7</td>\n",
              "      <td>25.0</td>\n",
              "      <td>13</td>\n",
              "      <td>1</td>\n",
              "      <td>16913</td>\n",
              "      <td>19553</td>\n",
              "      <td>1.0</td>\n",
              "      <td>0.0</td>\n",
              "    </tr>\n",
              "    <tr>\n",
              "      <th>...</th>\n",
              "      <td>...</td>\n",
              "      <td>...</td>\n",
              "      <td>...</td>\n",
              "      <td>...</td>\n",
              "      <td>...</td>\n",
              "      <td>...</td>\n",
              "      <td>...</td>\n",
              "      <td>...</td>\n",
              "      <td>...</td>\n",
              "      <td>...</td>\n",
              "      <td>...</td>\n",
              "      <td>...</td>\n",
              "      <td>...</td>\n",
              "      <td>...</td>\n",
              "      <td>...</td>\n",
              "      <td>...</td>\n",
              "      <td>...</td>\n",
              "      <td>...</td>\n",
              "      <td>...</td>\n",
              "    </tr>\n",
              "    <tr>\n",
              "      <th>111102</th>\n",
              "      <td>503f01e2-c3c4-4b10-886e-f15de57b6f1a</td>\n",
              "      <td>27a17610-1d8c-48a7-b0db-2d81a4fa099a</td>\n",
              "      <td>Fully Paid</td>\n",
              "      <td>15654</td>\n",
              "      <td>Long Term</td>\n",
              "      <td>686.0</td>\n",
              "      <td>10+ years</td>\n",
              "      <td>Rent</td>\n",
              "      <td>43050.0</td>\n",
              "      <td>Debt Consolidation</td>\n",
              "      <td>889.69</td>\n",
              "      <td>14.1</td>\n",
              "      <td>49.0</td>\n",
              "      <td>18</td>\n",
              "      <td>0</td>\n",
              "      <td>14730</td>\n",
              "      <td>29757</td>\n",
              "      <td>0.0</td>\n",
              "      <td>0.0</td>\n",
              "    </tr>\n",
              "    <tr>\n",
              "      <th>111103</th>\n",
              "      <td>8af53bc0-56a4-4801-a960-52a46a90b33f</td>\n",
              "      <td>c124ca71-f42a-47cc-8ec2-236f7e9868a5</td>\n",
              "      <td>Fully Paid</td>\n",
              "      <td>15237</td>\n",
              "      <td>Short Term</td>\n",
              "      <td>706.0</td>\n",
              "      <td>10+ years</td>\n",
              "      <td>Home Mortgage</td>\n",
              "      <td>60948.0</td>\n",
              "      <td>Debt Consolidation</td>\n",
              "      <td>700.9</td>\n",
              "      <td>15.9</td>\n",
              "      <td>48.0</td>\n",
              "      <td>11</td>\n",
              "      <td>0</td>\n",
              "      <td>17733</td>\n",
              "      <td>23060</td>\n",
              "      <td>0.0</td>\n",
              "      <td>0.0</td>\n",
              "    </tr>\n",
              "    <tr>\n",
              "      <th>111104</th>\n",
              "      <td>96efd327-f965-42ae-8b2b-d2555205ce19</td>\n",
              "      <td>7d959a54-8eeb-4df6-b582-046f889e4cff</td>\n",
              "      <td>Fully Paid</td>\n",
              "      <td>10413</td>\n",
              "      <td>Short Term</td>\n",
              "      <td>719.0</td>\n",
              "      <td>5 years</td>\n",
              "      <td>Home Mortgage</td>\n",
              "      <td>66945.0</td>\n",
              "      <td>Debt Consolidation</td>\n",
              "      <td>1210.59</td>\n",
              "      <td>8.7</td>\n",
              "      <td>32.0</td>\n",
              "      <td>11</td>\n",
              "      <td>0</td>\n",
              "      <td>5205</td>\n",
              "      <td>6348</td>\n",
              "      <td>0.0</td>\n",
              "      <td>0.0</td>\n",
              "    </tr>\n",
              "    <tr>\n",
              "      <th>111105</th>\n",
              "      <td>ec19166c-70c5-4d49-adb6-fb3fc15024a2</td>\n",
              "      <td>5723fbf2-1ce8-4752-8bee-1bebf339f278</td>\n",
              "      <td>Fully Paid</td>\n",
              "      <td>34447</td>\n",
              "      <td>Short Term</td>\n",
              "      <td>626.0</td>\n",
              "      <td>10+ years</td>\n",
              "      <td>Home Mortgage</td>\n",
              "      <td>78736.0</td>\n",
              "      <td>Debt Consolidation</td>\n",
              "      <td>1476.3</td>\n",
              "      <td>30.4</td>\n",
              "      <td>9.0</td>\n",
              "      <td>12</td>\n",
              "      <td>0</td>\n",
              "      <td>32318</td>\n",
              "      <td>37580</td>\n",
              "      <td>0.0</td>\n",
              "      <td>0.0</td>\n",
              "    </tr>\n",
              "    <tr>\n",
              "      <th>111106</th>\n",
              "      <td>f83ae0e1-bd30-46c7-9f72-f4f9fe2f36ca</td>\n",
              "      <td>74187e35-39c2-4010-ae0d-8bcd0544189e</td>\n",
              "      <td>Fully Paid</td>\n",
              "      <td>9209</td>\n",
              "      <td>Long Term</td>\n",
              "      <td>708.0</td>\n",
              "      <td>&lt; 1 year</td>\n",
              "      <td>Own Home</td>\n",
              "      <td>123454.0</td>\n",
              "      <td>Debt Consolidation</td>\n",
              "      <td>668.71</td>\n",
              "      <td>20.1</td>\n",
              "      <td>16.0</td>\n",
              "      <td>8</td>\n",
              "      <td>0</td>\n",
              "      <td>6835</td>\n",
              "      <td>9261</td>\n",
              "      <td>0.0</td>\n",
              "      <td>0.0</td>\n",
              "    </tr>\n",
              "  </tbody>\n",
              "</table>\n",
              "<p>105238 rows × 19 columns</p>\n",
              "</div>"
            ],
            "text/plain": [
              "                                     Loan ID  ... Tax Liens\n",
              "0       6cf51492-02a2-423e-b93d-676f05b9ad53  ...       0.0\n",
              "1       552e7ade-4292-4354-9ff9-c48031697d72  ...       0.0\n",
              "2       9b5e32b3-8d76-4801-afc8-d729d5a2e6b9  ...       0.0\n",
              "3       5419b7c7-ac11-4be2-a8a7-b131fb6d6dbe  ...       0.0\n",
              "4       1450910f-9495-4fc9-afaf-9bdf4b9821df  ...       0.0\n",
              "...                                      ...  ...       ...\n",
              "111102  503f01e2-c3c4-4b10-886e-f15de57b6f1a  ...       0.0\n",
              "111103  8af53bc0-56a4-4801-a960-52a46a90b33f  ...       0.0\n",
              "111104  96efd327-f965-42ae-8b2b-d2555205ce19  ...       0.0\n",
              "111105  ec19166c-70c5-4d49-adb6-fb3fc15024a2  ...       0.0\n",
              "111106  f83ae0e1-bd30-46c7-9f72-f4f9fe2f36ca  ...       0.0\n",
              "\n",
              "[105238 rows x 19 columns]"
            ]
          },
          "metadata": {
            "tags": []
          },
          "execution_count": 172
        }
      ]
    },
    {
      "cell_type": "code",
      "metadata": {
        "id": "uhaNZo6kP3ah"
      },
      "source": [
        "df2 = df1.copy()\n",
        "df2.reset_index(inplace = True)"
      ],
      "execution_count": null,
      "outputs": []
    },
    {
      "cell_type": "code",
      "metadata": {
        "id": "EgVjQHRY-vZM"
      },
      "source": [
        "normalized_df1=(df1[['Current Loan Amount',\t'Credit Score',\t'Annual Income',\t'Years of Credit History',\t'Months since last delinquent',\t'Number of Open Accounts',\t'Number of Credit Problems',\t'Current Credit Balance',\t'Bankruptcies',\t'Tax Liens']]-df1[['Current Loan Amount',\t'Credit Score',\t'Annual Income',\t'Years of Credit History',\t'Months since last delinquent',\t'Number of Open Accounts',\t'Number of Credit Problems',\t'Current Credit Balance',\t'Bankruptcies',\t'Tax Liens']].min())/(df1[['Current Loan Amount',\t'Credit Score',\t'Annual Income',\t'Years of Credit History',\t'Months since last delinquent',\t'Number of Open Accounts',\t'Number of Credit Problems',\t'Current Credit Balance',\t'Bankruptcies',\t'Tax Liens']].max()-df1[['Current Loan Amount',\t'Credit Score',\t'Annual Income',\t'Years of Credit History',\t'Months since last delinquent',\t'Number of Open Accounts',\t'Number of Credit Problems',\t'Current Credit Balance',\t'Bankruptcies',\t'Tax Liens']].min())"
      ],
      "execution_count": null,
      "outputs": []
    },
    {
      "cell_type": "code",
      "metadata": {
        "id": "PNlNzkjnNGu9"
      },
      "source": [
        "df1[['Current Loan Amount',\t'Credit Score',\t'Annual Income',\t'Years of Credit History',\t'Months since last delinquent',\t'Number of Open Accounts',\t'Number of Credit Problems',\t'Current Credit Balance',\t'Bankruptcies',\t'Tax Liens']] = normalized_df1"
      ],
      "execution_count": null,
      "outputs": []
    },
    {
      "cell_type": "code",
      "metadata": {
        "colab": {
          "base_uri": "https://localhost:8080/",
          "height": 436
        },
        "id": "UDMruK7bNxn8",
        "outputId": "d3546932-811e-4996-b5d9-85bd03d40488"
      },
      "source": [
        "normalized_df1"
      ],
      "execution_count": null,
      "outputs": [
        {
          "output_type": "execute_result",
          "data": {
            "text/html": [
              "<div>\n",
              "<style scoped>\n",
              "    .dataframe tbody tr th:only-of-type {\n",
              "        vertical-align: middle;\n",
              "    }\n",
              "\n",
              "    .dataframe tbody tr th {\n",
              "        vertical-align: top;\n",
              "    }\n",
              "\n",
              "    .dataframe thead th {\n",
              "        text-align: right;\n",
              "    }\n",
              "</style>\n",
              "<table border=\"1\" class=\"dataframe\">\n",
              "  <thead>\n",
              "    <tr style=\"text-align: right;\">\n",
              "      <th></th>\n",
              "      <th>Current Loan Amount</th>\n",
              "      <th>Credit Score</th>\n",
              "      <th>Annual Income</th>\n",
              "      <th>Years of Credit History</th>\n",
              "      <th>Months since last delinquent</th>\n",
              "      <th>Number of Open Accounts</th>\n",
              "      <th>Number of Credit Problems</th>\n",
              "      <th>Current Credit Balance</th>\n",
              "      <th>Bankruptcies</th>\n",
              "      <th>Tax Liens</th>\n",
              "    </tr>\n",
              "  </thead>\n",
              "  <tbody>\n",
              "    <tr>\n",
              "      <th>0</th>\n",
              "      <td>0.000117</td>\n",
              "      <td>0.966787</td>\n",
              "      <td>0.004892</td>\n",
              "      <td>0.215247</td>\n",
              "      <td>0.056818</td>\n",
              "      <td>0.157895</td>\n",
              "      <td>0.000000</td>\n",
              "      <td>0.003908</td>\n",
              "      <td>0.000000</td>\n",
              "      <td>0.0</td>\n",
              "    </tr>\n",
              "    <tr>\n",
              "      <th>1</th>\n",
              "      <td>0.000245</td>\n",
              "      <td>0.974007</td>\n",
              "      <td>0.008848</td>\n",
              "      <td>0.345291</td>\n",
              "      <td>0.181818</td>\n",
              "      <td>0.184211</td>\n",
              "      <td>0.000000</td>\n",
              "      <td>0.020634</td>\n",
              "      <td>0.000000</td>\n",
              "      <td>0.0</td>\n",
              "    </tr>\n",
              "    <tr>\n",
              "      <th>2</th>\n",
              "      <td>0.000156</td>\n",
              "      <td>0.961011</td>\n",
              "      <td>0.006476</td>\n",
              "      <td>0.195815</td>\n",
              "      <td>0.181818</td>\n",
              "      <td>0.144737</td>\n",
              "      <td>0.066667</td>\n",
              "      <td>0.006516</td>\n",
              "      <td>0.142857</td>\n",
              "      <td>0.0</td>\n",
              "    </tr>\n",
              "    <tr>\n",
              "      <th>3</th>\n",
              "      <td>0.000112</td>\n",
              "      <td>0.984116</td>\n",
              "      <td>0.003460</td>\n",
              "      <td>0.095665</td>\n",
              "      <td>0.181818</td>\n",
              "      <td>0.276316</td>\n",
              "      <td>0.000000</td>\n",
              "      <td>0.004050</td>\n",
              "      <td>0.000000</td>\n",
              "      <td>0.0</td>\n",
              "    </tr>\n",
              "    <tr>\n",
              "      <th>4</th>\n",
              "      <td>0.000093</td>\n",
              "      <td>0.906137</td>\n",
              "      <td>0.004934</td>\n",
              "      <td>0.195815</td>\n",
              "      <td>0.142045</td>\n",
              "      <td>0.171053</td>\n",
              "      <td>0.066667</td>\n",
              "      <td>0.009774</td>\n",
              "      <td>0.142857</td>\n",
              "      <td>0.0</td>\n",
              "    </tr>\n",
              "    <tr>\n",
              "      <th>...</th>\n",
              "      <td>...</td>\n",
              "      <td>...</td>\n",
              "      <td>...</td>\n",
              "      <td>...</td>\n",
              "      <td>...</td>\n",
              "      <td>...</td>\n",
              "      <td>...</td>\n",
              "      <td>...</td>\n",
              "      <td>...</td>\n",
              "      <td>...</td>\n",
              "    </tr>\n",
              "    <tr>\n",
              "      <th>111102</th>\n",
              "      <td>0.000152</td>\n",
              "      <td>0.014585</td>\n",
              "      <td>0.004480</td>\n",
              "      <td>0.156951</td>\n",
              "      <td>0.278409</td>\n",
              "      <td>0.236842</td>\n",
              "      <td>0.000000</td>\n",
              "      <td>0.008512</td>\n",
              "      <td>0.000000</td>\n",
              "      <td>0.0</td>\n",
              "    </tr>\n",
              "    <tr>\n",
              "      <th>111103</th>\n",
              "      <td>0.000147</td>\n",
              "      <td>0.017473</td>\n",
              "      <td>0.006535</td>\n",
              "      <td>0.183857</td>\n",
              "      <td>0.272727</td>\n",
              "      <td>0.144737</td>\n",
              "      <td>0.000000</td>\n",
              "      <td>0.010247</td>\n",
              "      <td>0.000000</td>\n",
              "      <td>0.0</td>\n",
              "    </tr>\n",
              "    <tr>\n",
              "      <th>111104</th>\n",
              "      <td>0.000099</td>\n",
              "      <td>0.019350</td>\n",
              "      <td>0.007223</td>\n",
              "      <td>0.076233</td>\n",
              "      <td>0.181818</td>\n",
              "      <td>0.144737</td>\n",
              "      <td>0.000000</td>\n",
              "      <td>0.003008</td>\n",
              "      <td>0.000000</td>\n",
              "      <td>0.0</td>\n",
              "    </tr>\n",
              "    <tr>\n",
              "      <th>111105</th>\n",
              "      <td>0.000340</td>\n",
              "      <td>0.005921</td>\n",
              "      <td>0.008577</td>\n",
              "      <td>0.400598</td>\n",
              "      <td>0.051136</td>\n",
              "      <td>0.157895</td>\n",
              "      <td>0.000000</td>\n",
              "      <td>0.018676</td>\n",
              "      <td>0.000000</td>\n",
              "      <td>0.0</td>\n",
              "    </tr>\n",
              "    <tr>\n",
              "      <th>111106</th>\n",
              "      <td>0.000087</td>\n",
              "      <td>0.017762</td>\n",
              "      <td>0.013712</td>\n",
              "      <td>0.246637</td>\n",
              "      <td>0.090909</td>\n",
              "      <td>0.105263</td>\n",
              "      <td>0.000000</td>\n",
              "      <td>0.003950</td>\n",
              "      <td>0.000000</td>\n",
              "      <td>0.0</td>\n",
              "    </tr>\n",
              "  </tbody>\n",
              "</table>\n",
              "<p>105238 rows × 10 columns</p>\n",
              "</div>"
            ],
            "text/plain": [
              "        Current Loan Amount  Credit Score  ...  Bankruptcies  Tax Liens\n",
              "0                  0.000117      0.966787  ...      0.000000        0.0\n",
              "1                  0.000245      0.974007  ...      0.000000        0.0\n",
              "2                  0.000156      0.961011  ...      0.142857        0.0\n",
              "3                  0.000112      0.984116  ...      0.000000        0.0\n",
              "4                  0.000093      0.906137  ...      0.142857        0.0\n",
              "...                     ...           ...  ...           ...        ...\n",
              "111102             0.000152      0.014585  ...      0.000000        0.0\n",
              "111103             0.000147      0.017473  ...      0.000000        0.0\n",
              "111104             0.000099      0.019350  ...      0.000000        0.0\n",
              "111105             0.000340      0.005921  ...      0.000000        0.0\n",
              "111106             0.000087      0.017762  ...      0.000000        0.0\n",
              "\n",
              "[105238 rows x 10 columns]"
            ]
          },
          "metadata": {
            "tags": []
          },
          "execution_count": 176
        }
      ]
    },
    {
      "cell_type": "code",
      "metadata": {
        "colab": {
          "base_uri": "https://localhost:8080/",
          "height": 1000
        },
        "id": "dVtizrD2ntYC",
        "outputId": "f54f8227-bfd0-430a-ea1d-bea6fb03c4d7"
      },
      "source": [
        "df1"
      ],
      "execution_count": null,
      "outputs": [
        {
          "output_type": "execute_result",
          "data": {
            "text/html": [
              "<div>\n",
              "<style scoped>\n",
              "    .dataframe tbody tr th:only-of-type {\n",
              "        vertical-align: middle;\n",
              "    }\n",
              "\n",
              "    .dataframe tbody tr th {\n",
              "        vertical-align: top;\n",
              "    }\n",
              "\n",
              "    .dataframe thead th {\n",
              "        text-align: right;\n",
              "    }\n",
              "</style>\n",
              "<table border=\"1\" class=\"dataframe\">\n",
              "  <thead>\n",
              "    <tr style=\"text-align: right;\">\n",
              "      <th></th>\n",
              "      <th>Loan ID</th>\n",
              "      <th>Customer ID</th>\n",
              "      <th>Loan Status</th>\n",
              "      <th>Current Loan Amount</th>\n",
              "      <th>Term</th>\n",
              "      <th>Credit Score</th>\n",
              "      <th>Years in current job</th>\n",
              "      <th>Home Ownership</th>\n",
              "      <th>Annual Income</th>\n",
              "      <th>Purpose</th>\n",
              "      <th>Monthly Debt</th>\n",
              "      <th>Years of Credit History</th>\n",
              "      <th>Months since last delinquent</th>\n",
              "      <th>Number of Open Accounts</th>\n",
              "      <th>Number of Credit Problems</th>\n",
              "      <th>Current Credit Balance</th>\n",
              "      <th>Maximum Open Credit</th>\n",
              "      <th>Bankruptcies</th>\n",
              "      <th>Tax Liens</th>\n",
              "    </tr>\n",
              "  </thead>\n",
              "  <tbody>\n",
              "    <tr>\n",
              "      <th>0</th>\n",
              "      <td>6cf51492-02a2-423e-b93d-676f05b9ad53</td>\n",
              "      <td>7c202b37-2add-44e8-9aea-d5b119aea935</td>\n",
              "      <td>Charged Off</td>\n",
              "      <td>0.000117</td>\n",
              "      <td>Short Term</td>\n",
              "      <td>0.966787</td>\n",
              "      <td>&lt; 1 year</td>\n",
              "      <td>Rent</td>\n",
              "      <td>0.004892</td>\n",
              "      <td>Debt Consolidation</td>\n",
              "      <td>777.39</td>\n",
              "      <td>0.215247</td>\n",
              "      <td>0.056818</td>\n",
              "      <td>0.157895</td>\n",
              "      <td>0.000000</td>\n",
              "      <td>0.003908</td>\n",
              "      <td>7946</td>\n",
              "      <td>0.000000</td>\n",
              "      <td>0.0</td>\n",
              "    </tr>\n",
              "    <tr>\n",
              "      <th>1</th>\n",
              "      <td>552e7ade-4292-4354-9ff9-c48031697d72</td>\n",
              "      <td>e7217b0a-07ac-47dd-b379-577b5a35b7c6</td>\n",
              "      <td>Charged Off</td>\n",
              "      <td>0.000245</td>\n",
              "      <td>Long Term</td>\n",
              "      <td>0.974007</td>\n",
              "      <td>10+ years</td>\n",
              "      <td>Home Mortgage</td>\n",
              "      <td>0.008848</td>\n",
              "      <td>Debt Consolidation</td>\n",
              "      <td>892.09</td>\n",
              "      <td>0.345291</td>\n",
              "      <td>0.181818</td>\n",
              "      <td>0.184211</td>\n",
              "      <td>0.000000</td>\n",
              "      <td>0.020634</td>\n",
              "      <td>77961</td>\n",
              "      <td>0.000000</td>\n",
              "      <td>0.0</td>\n",
              "    </tr>\n",
              "    <tr>\n",
              "      <th>2</th>\n",
              "      <td>9b5e32b3-8d76-4801-afc8-d729d5a2e6b9</td>\n",
              "      <td>0a62fc41-16c8-40b5-92ff-9e4b763ce714</td>\n",
              "      <td>Charged Off</td>\n",
              "      <td>0.000156</td>\n",
              "      <td>Short Term</td>\n",
              "      <td>0.961011</td>\n",
              "      <td>9 years</td>\n",
              "      <td>Home Mortgage</td>\n",
              "      <td>0.006476</td>\n",
              "      <td>Home Improvements</td>\n",
              "      <td>1244.02</td>\n",
              "      <td>0.195815</td>\n",
              "      <td>0.181818</td>\n",
              "      <td>0.144737</td>\n",
              "      <td>0.066667</td>\n",
              "      <td>0.006516</td>\n",
              "      <td>14815</td>\n",
              "      <td>0.142857</td>\n",
              "      <td>0.0</td>\n",
              "    </tr>\n",
              "    <tr>\n",
              "      <th>3</th>\n",
              "      <td>5419b7c7-ac11-4be2-a8a7-b131fb6d6dbe</td>\n",
              "      <td>30f36c59-5182-4482-8bbb-5b736849ae43</td>\n",
              "      <td>Charged Off</td>\n",
              "      <td>0.000112</td>\n",
              "      <td>Short Term</td>\n",
              "      <td>0.984116</td>\n",
              "      <td>3 years</td>\n",
              "      <td>Rent</td>\n",
              "      <td>0.003460</td>\n",
              "      <td>Debt Consolidation</td>\n",
              "      <td>990.94</td>\n",
              "      <td>0.095665</td>\n",
              "      <td>0.181818</td>\n",
              "      <td>0.276316</td>\n",
              "      <td>0.000000</td>\n",
              "      <td>0.004050</td>\n",
              "      <td>43533</td>\n",
              "      <td>0.000000</td>\n",
              "      <td>0.0</td>\n",
              "    </tr>\n",
              "    <tr>\n",
              "      <th>4</th>\n",
              "      <td>1450910f-9495-4fc9-afaf-9bdf4b9821df</td>\n",
              "      <td>70c26012-bba5-42c0-8dcb-75295ada31bb</td>\n",
              "      <td>Charged Off</td>\n",
              "      <td>0.000093</td>\n",
              "      <td>Long Term</td>\n",
              "      <td>0.906137</td>\n",
              "      <td>10+ years</td>\n",
              "      <td>Home Mortgage</td>\n",
              "      <td>0.004934</td>\n",
              "      <td>Home Improvements</td>\n",
              "      <td>503.71</td>\n",
              "      <td>0.195815</td>\n",
              "      <td>0.142045</td>\n",
              "      <td>0.171053</td>\n",
              "      <td>0.066667</td>\n",
              "      <td>0.009774</td>\n",
              "      <td>19553</td>\n",
              "      <td>0.142857</td>\n",
              "      <td>0.0</td>\n",
              "    </tr>\n",
              "    <tr>\n",
              "      <th>...</th>\n",
              "      <td>...</td>\n",
              "      <td>...</td>\n",
              "      <td>...</td>\n",
              "      <td>...</td>\n",
              "      <td>...</td>\n",
              "      <td>...</td>\n",
              "      <td>...</td>\n",
              "      <td>...</td>\n",
              "      <td>...</td>\n",
              "      <td>...</td>\n",
              "      <td>...</td>\n",
              "      <td>...</td>\n",
              "      <td>...</td>\n",
              "      <td>...</td>\n",
              "      <td>...</td>\n",
              "      <td>...</td>\n",
              "      <td>...</td>\n",
              "      <td>...</td>\n",
              "      <td>...</td>\n",
              "    </tr>\n",
              "    <tr>\n",
              "      <th>111102</th>\n",
              "      <td>503f01e2-c3c4-4b10-886e-f15de57b6f1a</td>\n",
              "      <td>27a17610-1d8c-48a7-b0db-2d81a4fa099a</td>\n",
              "      <td>Fully Paid</td>\n",
              "      <td>0.000152</td>\n",
              "      <td>Long Term</td>\n",
              "      <td>0.014585</td>\n",
              "      <td>10+ years</td>\n",
              "      <td>Rent</td>\n",
              "      <td>0.004480</td>\n",
              "      <td>Debt Consolidation</td>\n",
              "      <td>889.69</td>\n",
              "      <td>0.156951</td>\n",
              "      <td>0.278409</td>\n",
              "      <td>0.236842</td>\n",
              "      <td>0.000000</td>\n",
              "      <td>0.008512</td>\n",
              "      <td>29757</td>\n",
              "      <td>0.000000</td>\n",
              "      <td>0.0</td>\n",
              "    </tr>\n",
              "    <tr>\n",
              "      <th>111103</th>\n",
              "      <td>8af53bc0-56a4-4801-a960-52a46a90b33f</td>\n",
              "      <td>c124ca71-f42a-47cc-8ec2-236f7e9868a5</td>\n",
              "      <td>Fully Paid</td>\n",
              "      <td>0.000147</td>\n",
              "      <td>Short Term</td>\n",
              "      <td>0.017473</td>\n",
              "      <td>10+ years</td>\n",
              "      <td>Home Mortgage</td>\n",
              "      <td>0.006535</td>\n",
              "      <td>Debt Consolidation</td>\n",
              "      <td>700.9</td>\n",
              "      <td>0.183857</td>\n",
              "      <td>0.272727</td>\n",
              "      <td>0.144737</td>\n",
              "      <td>0.000000</td>\n",
              "      <td>0.010247</td>\n",
              "      <td>23060</td>\n",
              "      <td>0.000000</td>\n",
              "      <td>0.0</td>\n",
              "    </tr>\n",
              "    <tr>\n",
              "      <th>111104</th>\n",
              "      <td>96efd327-f965-42ae-8b2b-d2555205ce19</td>\n",
              "      <td>7d959a54-8eeb-4df6-b582-046f889e4cff</td>\n",
              "      <td>Fully Paid</td>\n",
              "      <td>0.000099</td>\n",
              "      <td>Short Term</td>\n",
              "      <td>0.019350</td>\n",
              "      <td>5 years</td>\n",
              "      <td>Home Mortgage</td>\n",
              "      <td>0.007223</td>\n",
              "      <td>Debt Consolidation</td>\n",
              "      <td>1210.59</td>\n",
              "      <td>0.076233</td>\n",
              "      <td>0.181818</td>\n",
              "      <td>0.144737</td>\n",
              "      <td>0.000000</td>\n",
              "      <td>0.003008</td>\n",
              "      <td>6348</td>\n",
              "      <td>0.000000</td>\n",
              "      <td>0.0</td>\n",
              "    </tr>\n",
              "    <tr>\n",
              "      <th>111105</th>\n",
              "      <td>ec19166c-70c5-4d49-adb6-fb3fc15024a2</td>\n",
              "      <td>5723fbf2-1ce8-4752-8bee-1bebf339f278</td>\n",
              "      <td>Fully Paid</td>\n",
              "      <td>0.000340</td>\n",
              "      <td>Short Term</td>\n",
              "      <td>0.005921</td>\n",
              "      <td>10+ years</td>\n",
              "      <td>Home Mortgage</td>\n",
              "      <td>0.008577</td>\n",
              "      <td>Debt Consolidation</td>\n",
              "      <td>1476.3</td>\n",
              "      <td>0.400598</td>\n",
              "      <td>0.051136</td>\n",
              "      <td>0.157895</td>\n",
              "      <td>0.000000</td>\n",
              "      <td>0.018676</td>\n",
              "      <td>37580</td>\n",
              "      <td>0.000000</td>\n",
              "      <td>0.0</td>\n",
              "    </tr>\n",
              "    <tr>\n",
              "      <th>111106</th>\n",
              "      <td>f83ae0e1-bd30-46c7-9f72-f4f9fe2f36ca</td>\n",
              "      <td>74187e35-39c2-4010-ae0d-8bcd0544189e</td>\n",
              "      <td>Fully Paid</td>\n",
              "      <td>0.000087</td>\n",
              "      <td>Long Term</td>\n",
              "      <td>0.017762</td>\n",
              "      <td>&lt; 1 year</td>\n",
              "      <td>Own Home</td>\n",
              "      <td>0.013712</td>\n",
              "      <td>Debt Consolidation</td>\n",
              "      <td>668.71</td>\n",
              "      <td>0.246637</td>\n",
              "      <td>0.090909</td>\n",
              "      <td>0.105263</td>\n",
              "      <td>0.000000</td>\n",
              "      <td>0.003950</td>\n",
              "      <td>9261</td>\n",
              "      <td>0.000000</td>\n",
              "      <td>0.0</td>\n",
              "    </tr>\n",
              "  </tbody>\n",
              "</table>\n",
              "<p>105238 rows × 19 columns</p>\n",
              "</div>"
            ],
            "text/plain": [
              "                                     Loan ID  ... Tax Liens\n",
              "0       6cf51492-02a2-423e-b93d-676f05b9ad53  ...       0.0\n",
              "1       552e7ade-4292-4354-9ff9-c48031697d72  ...       0.0\n",
              "2       9b5e32b3-8d76-4801-afc8-d729d5a2e6b9  ...       0.0\n",
              "3       5419b7c7-ac11-4be2-a8a7-b131fb6d6dbe  ...       0.0\n",
              "4       1450910f-9495-4fc9-afaf-9bdf4b9821df  ...       0.0\n",
              "...                                      ...  ...       ...\n",
              "111102  503f01e2-c3c4-4b10-886e-f15de57b6f1a  ...       0.0\n",
              "111103  8af53bc0-56a4-4801-a960-52a46a90b33f  ...       0.0\n",
              "111104  96efd327-f965-42ae-8b2b-d2555205ce19  ...       0.0\n",
              "111105  ec19166c-70c5-4d49-adb6-fb3fc15024a2  ...       0.0\n",
              "111106  f83ae0e1-bd30-46c7-9f72-f4f9fe2f36ca  ...       0.0\n",
              "\n",
              "[105238 rows x 19 columns]"
            ]
          },
          "metadata": {
            "tags": []
          },
          "execution_count": 177
        }
      ]
    },
    {
      "cell_type": "code",
      "metadata": {
        "id": "nvozsqdIqwO7"
      },
      "source": [
        "df4 = df1.copy()\n",
        "df4.reset_index(inplace = True)\n",
        "df4 ['Monthly Debt'] = df4['Monthly Debt'].astype(str)\n",
        "df4[\"Monthly Debt\"] = df4[\"Monthly Debt\"].str.replace(\"$\",\"\", regex = True)"
      ],
      "execution_count": null,
      "outputs": []
    },
    {
      "cell_type": "code",
      "metadata": {
        "colab": {
          "base_uri": "https://localhost:8080/"
        },
        "id": "Cy7wq-XrzYoP",
        "outputId": "b2d22caa-6767-45b1-e36a-de32da53ffa2"
      },
      "source": [
        "df4['Monthly Debt']"
      ],
      "execution_count": null,
      "outputs": [
        {
          "output_type": "execute_result",
          "data": {
            "text/plain": [
              "0          777.39\n",
              "1          892.09\n",
              "2         1244.02\n",
              "3          990.94\n",
              "4          503.71\n",
              "           ...   \n",
              "105233     889.69\n",
              "105234      700.9\n",
              "105235    1210.59\n",
              "105236     1476.3\n",
              "105237     668.71\n",
              "Name: Monthly Debt, Length: 105238, dtype: object"
            ]
          },
          "metadata": {
            "tags": []
          },
          "execution_count": 179
        }
      ]
    },
    {
      "cell_type": "code",
      "metadata": {
        "id": "zo1wNkQer2Sg"
      },
      "source": [
        ""
      ],
      "execution_count": null,
      "outputs": []
    },
    {
      "cell_type": "code",
      "metadata": {
        "id": "TMVbV6iep6bc"
      },
      "source": [
        "df3 = df1.copy()\n",
        "df3.reset_index(inplace = True)"
      ],
      "execution_count": null,
      "outputs": []
    },
    {
      "cell_type": "code",
      "metadata": {
        "id": "E5LwrBFLQezQ",
        "colab": {
          "base_uri": "https://localhost:8080/"
        },
        "outputId": "2905ae15-fb7c-4e30-9aa0-50a82db50efa"
      },
      "source": [
        "for i in range(len(df3['Monthly Debt'])):\n",
        "  if isinstance(df3['Monthly Debt'] [i], str):\n",
        "    if df3['Monthly Debt'] [i][0] == '$':\n",
        "      df3['Monthly Debt'] [i] = df3['Monthly Debt'] [i][1:]"
      ],
      "execution_count": null,
      "outputs": [
        {
          "output_type": "stream",
          "text": [
            "/usr/local/lib/python3.6/dist-packages/ipykernel_launcher.py:4: SettingWithCopyWarning: \n",
            "A value is trying to be set on a copy of a slice from a DataFrame\n",
            "\n",
            "See the caveats in the documentation: https://pandas.pydata.org/pandas-docs/stable/user_guide/indexing.html#returning-a-view-versus-a-copy\n",
            "  after removing the cwd from sys.path.\n"
          ],
          "name": "stderr"
        }
      ]
    },
    {
      "cell_type": "code",
      "metadata": {
        "id": "RoIaWEpMTfo6"
      },
      "source": [
        "for i in df3['Monthly Debt']:\n",
        "  if isinstance(i, str):\n",
        "    if i[0] == '$':\n",
        "      print(i)"
      ],
      "execution_count": null,
      "outputs": []
    },
    {
      "cell_type": "code",
      "metadata": {
        "id": "uXsjybDLXSMA"
      },
      "source": [
        "df3['Monthly Debt'] = df3['Monthly Debt'].astype(float)"
      ],
      "execution_count": null,
      "outputs": []
    },
    {
      "cell_type": "code",
      "metadata": {
        "colab": {
          "base_uri": "https://localhost:8080/",
          "height": 1000
        },
        "id": "ToKgS6x3bR6b",
        "outputId": "0a0fbdb4-5636-4e23-c391-0ef541eb94db"
      },
      "source": [
        "df3\n"
      ],
      "execution_count": null,
      "outputs": [
        {
          "output_type": "execute_result",
          "data": {
            "text/html": [
              "<div>\n",
              "<style scoped>\n",
              "    .dataframe tbody tr th:only-of-type {\n",
              "        vertical-align: middle;\n",
              "    }\n",
              "\n",
              "    .dataframe tbody tr th {\n",
              "        vertical-align: top;\n",
              "    }\n",
              "\n",
              "    .dataframe thead th {\n",
              "        text-align: right;\n",
              "    }\n",
              "</style>\n",
              "<table border=\"1\" class=\"dataframe\">\n",
              "  <thead>\n",
              "    <tr style=\"text-align: right;\">\n",
              "      <th></th>\n",
              "      <th>index</th>\n",
              "      <th>Loan ID</th>\n",
              "      <th>Customer ID</th>\n",
              "      <th>Loan Status</th>\n",
              "      <th>Current Loan Amount</th>\n",
              "      <th>Term</th>\n",
              "      <th>Credit Score</th>\n",
              "      <th>Years in current job</th>\n",
              "      <th>Home Ownership</th>\n",
              "      <th>Annual Income</th>\n",
              "      <th>Purpose</th>\n",
              "      <th>Monthly Debt</th>\n",
              "      <th>Years of Credit History</th>\n",
              "      <th>Months since last delinquent</th>\n",
              "      <th>Number of Open Accounts</th>\n",
              "      <th>Number of Credit Problems</th>\n",
              "      <th>Current Credit Balance</th>\n",
              "      <th>Maximum Open Credit</th>\n",
              "      <th>Bankruptcies</th>\n",
              "      <th>Tax Liens</th>\n",
              "    </tr>\n",
              "  </thead>\n",
              "  <tbody>\n",
              "    <tr>\n",
              "      <th>0</th>\n",
              "      <td>0</td>\n",
              "      <td>6cf51492-02a2-423e-b93d-676f05b9ad53</td>\n",
              "      <td>7c202b37-2add-44e8-9aea-d5b119aea935</td>\n",
              "      <td>Charged Off</td>\n",
              "      <td>0.000117</td>\n",
              "      <td>Short Term</td>\n",
              "      <td>0.966787</td>\n",
              "      <td>&lt; 1 year</td>\n",
              "      <td>Rent</td>\n",
              "      <td>0.004892</td>\n",
              "      <td>Debt Consolidation</td>\n",
              "      <td>777.39</td>\n",
              "      <td>0.215247</td>\n",
              "      <td>0.056818</td>\n",
              "      <td>0.157895</td>\n",
              "      <td>0.000000</td>\n",
              "      <td>0.003908</td>\n",
              "      <td>7946</td>\n",
              "      <td>0.000000</td>\n",
              "      <td>0.0</td>\n",
              "    </tr>\n",
              "    <tr>\n",
              "      <th>1</th>\n",
              "      <td>1</td>\n",
              "      <td>552e7ade-4292-4354-9ff9-c48031697d72</td>\n",
              "      <td>e7217b0a-07ac-47dd-b379-577b5a35b7c6</td>\n",
              "      <td>Charged Off</td>\n",
              "      <td>0.000245</td>\n",
              "      <td>Long Term</td>\n",
              "      <td>0.974007</td>\n",
              "      <td>10+ years</td>\n",
              "      <td>Home Mortgage</td>\n",
              "      <td>0.008848</td>\n",
              "      <td>Debt Consolidation</td>\n",
              "      <td>892.09</td>\n",
              "      <td>0.345291</td>\n",
              "      <td>0.181818</td>\n",
              "      <td>0.184211</td>\n",
              "      <td>0.000000</td>\n",
              "      <td>0.020634</td>\n",
              "      <td>77961</td>\n",
              "      <td>0.000000</td>\n",
              "      <td>0.0</td>\n",
              "    </tr>\n",
              "    <tr>\n",
              "      <th>2</th>\n",
              "      <td>2</td>\n",
              "      <td>9b5e32b3-8d76-4801-afc8-d729d5a2e6b9</td>\n",
              "      <td>0a62fc41-16c8-40b5-92ff-9e4b763ce714</td>\n",
              "      <td>Charged Off</td>\n",
              "      <td>0.000156</td>\n",
              "      <td>Short Term</td>\n",
              "      <td>0.961011</td>\n",
              "      <td>9 years</td>\n",
              "      <td>Home Mortgage</td>\n",
              "      <td>0.006476</td>\n",
              "      <td>Home Improvements</td>\n",
              "      <td>1244.02</td>\n",
              "      <td>0.195815</td>\n",
              "      <td>0.181818</td>\n",
              "      <td>0.144737</td>\n",
              "      <td>0.066667</td>\n",
              "      <td>0.006516</td>\n",
              "      <td>14815</td>\n",
              "      <td>0.142857</td>\n",
              "      <td>0.0</td>\n",
              "    </tr>\n",
              "    <tr>\n",
              "      <th>3</th>\n",
              "      <td>3</td>\n",
              "      <td>5419b7c7-ac11-4be2-a8a7-b131fb6d6dbe</td>\n",
              "      <td>30f36c59-5182-4482-8bbb-5b736849ae43</td>\n",
              "      <td>Charged Off</td>\n",
              "      <td>0.000112</td>\n",
              "      <td>Short Term</td>\n",
              "      <td>0.984116</td>\n",
              "      <td>3 years</td>\n",
              "      <td>Rent</td>\n",
              "      <td>0.003460</td>\n",
              "      <td>Debt Consolidation</td>\n",
              "      <td>990.94</td>\n",
              "      <td>0.095665</td>\n",
              "      <td>0.181818</td>\n",
              "      <td>0.276316</td>\n",
              "      <td>0.000000</td>\n",
              "      <td>0.004050</td>\n",
              "      <td>43533</td>\n",
              "      <td>0.000000</td>\n",
              "      <td>0.0</td>\n",
              "    </tr>\n",
              "    <tr>\n",
              "      <th>4</th>\n",
              "      <td>4</td>\n",
              "      <td>1450910f-9495-4fc9-afaf-9bdf4b9821df</td>\n",
              "      <td>70c26012-bba5-42c0-8dcb-75295ada31bb</td>\n",
              "      <td>Charged Off</td>\n",
              "      <td>0.000093</td>\n",
              "      <td>Long Term</td>\n",
              "      <td>0.906137</td>\n",
              "      <td>10+ years</td>\n",
              "      <td>Home Mortgage</td>\n",
              "      <td>0.004934</td>\n",
              "      <td>Home Improvements</td>\n",
              "      <td>503.71</td>\n",
              "      <td>0.195815</td>\n",
              "      <td>0.142045</td>\n",
              "      <td>0.171053</td>\n",
              "      <td>0.066667</td>\n",
              "      <td>0.009774</td>\n",
              "      <td>19553</td>\n",
              "      <td>0.142857</td>\n",
              "      <td>0.0</td>\n",
              "    </tr>\n",
              "    <tr>\n",
              "      <th>...</th>\n",
              "      <td>...</td>\n",
              "      <td>...</td>\n",
              "      <td>...</td>\n",
              "      <td>...</td>\n",
              "      <td>...</td>\n",
              "      <td>...</td>\n",
              "      <td>...</td>\n",
              "      <td>...</td>\n",
              "      <td>...</td>\n",
              "      <td>...</td>\n",
              "      <td>...</td>\n",
              "      <td>...</td>\n",
              "      <td>...</td>\n",
              "      <td>...</td>\n",
              "      <td>...</td>\n",
              "      <td>...</td>\n",
              "      <td>...</td>\n",
              "      <td>...</td>\n",
              "      <td>...</td>\n",
              "      <td>...</td>\n",
              "    </tr>\n",
              "    <tr>\n",
              "      <th>105233</th>\n",
              "      <td>111102</td>\n",
              "      <td>503f01e2-c3c4-4b10-886e-f15de57b6f1a</td>\n",
              "      <td>27a17610-1d8c-48a7-b0db-2d81a4fa099a</td>\n",
              "      <td>Fully Paid</td>\n",
              "      <td>0.000152</td>\n",
              "      <td>Long Term</td>\n",
              "      <td>0.014585</td>\n",
              "      <td>10+ years</td>\n",
              "      <td>Rent</td>\n",
              "      <td>0.004480</td>\n",
              "      <td>Debt Consolidation</td>\n",
              "      <td>889.69</td>\n",
              "      <td>0.156951</td>\n",
              "      <td>0.278409</td>\n",
              "      <td>0.236842</td>\n",
              "      <td>0.000000</td>\n",
              "      <td>0.008512</td>\n",
              "      <td>29757</td>\n",
              "      <td>0.000000</td>\n",
              "      <td>0.0</td>\n",
              "    </tr>\n",
              "    <tr>\n",
              "      <th>105234</th>\n",
              "      <td>111103</td>\n",
              "      <td>8af53bc0-56a4-4801-a960-52a46a90b33f</td>\n",
              "      <td>c124ca71-f42a-47cc-8ec2-236f7e9868a5</td>\n",
              "      <td>Fully Paid</td>\n",
              "      <td>0.000147</td>\n",
              "      <td>Short Term</td>\n",
              "      <td>0.017473</td>\n",
              "      <td>10+ years</td>\n",
              "      <td>Home Mortgage</td>\n",
              "      <td>0.006535</td>\n",
              "      <td>Debt Consolidation</td>\n",
              "      <td>700.90</td>\n",
              "      <td>0.183857</td>\n",
              "      <td>0.272727</td>\n",
              "      <td>0.144737</td>\n",
              "      <td>0.000000</td>\n",
              "      <td>0.010247</td>\n",
              "      <td>23060</td>\n",
              "      <td>0.000000</td>\n",
              "      <td>0.0</td>\n",
              "    </tr>\n",
              "    <tr>\n",
              "      <th>105235</th>\n",
              "      <td>111104</td>\n",
              "      <td>96efd327-f965-42ae-8b2b-d2555205ce19</td>\n",
              "      <td>7d959a54-8eeb-4df6-b582-046f889e4cff</td>\n",
              "      <td>Fully Paid</td>\n",
              "      <td>0.000099</td>\n",
              "      <td>Short Term</td>\n",
              "      <td>0.019350</td>\n",
              "      <td>5 years</td>\n",
              "      <td>Home Mortgage</td>\n",
              "      <td>0.007223</td>\n",
              "      <td>Debt Consolidation</td>\n",
              "      <td>1210.59</td>\n",
              "      <td>0.076233</td>\n",
              "      <td>0.181818</td>\n",
              "      <td>0.144737</td>\n",
              "      <td>0.000000</td>\n",
              "      <td>0.003008</td>\n",
              "      <td>6348</td>\n",
              "      <td>0.000000</td>\n",
              "      <td>0.0</td>\n",
              "    </tr>\n",
              "    <tr>\n",
              "      <th>105236</th>\n",
              "      <td>111105</td>\n",
              "      <td>ec19166c-70c5-4d49-adb6-fb3fc15024a2</td>\n",
              "      <td>5723fbf2-1ce8-4752-8bee-1bebf339f278</td>\n",
              "      <td>Fully Paid</td>\n",
              "      <td>0.000340</td>\n",
              "      <td>Short Term</td>\n",
              "      <td>0.005921</td>\n",
              "      <td>10+ years</td>\n",
              "      <td>Home Mortgage</td>\n",
              "      <td>0.008577</td>\n",
              "      <td>Debt Consolidation</td>\n",
              "      <td>1476.30</td>\n",
              "      <td>0.400598</td>\n",
              "      <td>0.051136</td>\n",
              "      <td>0.157895</td>\n",
              "      <td>0.000000</td>\n",
              "      <td>0.018676</td>\n",
              "      <td>37580</td>\n",
              "      <td>0.000000</td>\n",
              "      <td>0.0</td>\n",
              "    </tr>\n",
              "    <tr>\n",
              "      <th>105237</th>\n",
              "      <td>111106</td>\n",
              "      <td>f83ae0e1-bd30-46c7-9f72-f4f9fe2f36ca</td>\n",
              "      <td>74187e35-39c2-4010-ae0d-8bcd0544189e</td>\n",
              "      <td>Fully Paid</td>\n",
              "      <td>0.000087</td>\n",
              "      <td>Long Term</td>\n",
              "      <td>0.017762</td>\n",
              "      <td>&lt; 1 year</td>\n",
              "      <td>Own Home</td>\n",
              "      <td>0.013712</td>\n",
              "      <td>Debt Consolidation</td>\n",
              "      <td>668.71</td>\n",
              "      <td>0.246637</td>\n",
              "      <td>0.090909</td>\n",
              "      <td>0.105263</td>\n",
              "      <td>0.000000</td>\n",
              "      <td>0.003950</td>\n",
              "      <td>9261</td>\n",
              "      <td>0.000000</td>\n",
              "      <td>0.0</td>\n",
              "    </tr>\n",
              "  </tbody>\n",
              "</table>\n",
              "<p>105238 rows × 20 columns</p>\n",
              "</div>"
            ],
            "text/plain": [
              "         index                               Loan ID  ... Bankruptcies Tax Liens\n",
              "0            0  6cf51492-02a2-423e-b93d-676f05b9ad53  ...     0.000000       0.0\n",
              "1            1  552e7ade-4292-4354-9ff9-c48031697d72  ...     0.000000       0.0\n",
              "2            2  9b5e32b3-8d76-4801-afc8-d729d5a2e6b9  ...     0.142857       0.0\n",
              "3            3  5419b7c7-ac11-4be2-a8a7-b131fb6d6dbe  ...     0.000000       0.0\n",
              "4            4  1450910f-9495-4fc9-afaf-9bdf4b9821df  ...     0.142857       0.0\n",
              "...        ...                                   ...  ...          ...       ...\n",
              "105233  111102  503f01e2-c3c4-4b10-886e-f15de57b6f1a  ...     0.000000       0.0\n",
              "105234  111103  8af53bc0-56a4-4801-a960-52a46a90b33f  ...     0.000000       0.0\n",
              "105235  111104  96efd327-f965-42ae-8b2b-d2555205ce19  ...     0.000000       0.0\n",
              "105236  111105  ec19166c-70c5-4d49-adb6-fb3fc15024a2  ...     0.000000       0.0\n",
              "105237  111106  f83ae0e1-bd30-46c7-9f72-f4f9fe2f36ca  ...     0.000000       0.0\n",
              "\n",
              "[105238 rows x 20 columns]"
            ]
          },
          "metadata": {
            "tags": []
          },
          "execution_count": 184
        }
      ]
    },
    {
      "cell_type": "code",
      "metadata": {
        "colab": {
          "base_uri": "https://localhost:8080/"
        },
        "id": "GLBhyvb6h9sV",
        "outputId": "1b325210-4373-4a40-98d5-d4d97bd1f92d"
      },
      "source": [
        "for i in df3['Maximum Open Credit']:\n",
        "  if isinstance(i, str):\n",
        "    if i == '#VALUE!':\n",
        "      print(i)"
      ],
      "execution_count": null,
      "outputs": [
        {
          "output_type": "stream",
          "text": [
            "#VALUE!\n",
            "#VALUE!\n"
          ],
          "name": "stdout"
        }
      ]
    },
    {
      "cell_type": "code",
      "metadata": {
        "colab": {
          "base_uri": "https://localhost:8080/"
        },
        "id": "MWrETupTtobN",
        "outputId": "eb8381b1-e043-4365-d017-d7431fd15f76"
      },
      "source": [
        "for i in range(len(df3['Maximum Open Credit'])):\n",
        "  if isinstance(df3['Maximum Open Credit'] [i], str):\n",
        "    if df3['Maximum Open Credit'] [i] == '#VALUE!':\n",
        "      df3['Maximum Open Credit'] [i] = '0'"
      ],
      "execution_count": null,
      "outputs": [
        {
          "output_type": "stream",
          "text": [
            "/usr/local/lib/python3.6/dist-packages/ipykernel_launcher.py:4: SettingWithCopyWarning: \n",
            "A value is trying to be set on a copy of a slice from a DataFrame\n",
            "\n",
            "See the caveats in the documentation: https://pandas.pydata.org/pandas-docs/stable/user_guide/indexing.html#returning-a-view-versus-a-copy\n",
            "  after removing the cwd from sys.path.\n"
          ],
          "name": "stderr"
        }
      ]
    },
    {
      "cell_type": "code",
      "metadata": {
        "id": "YZaAFhygu1Qu"
      },
      "source": [
        "df3['Maximum Open Credit'] = df3['Maximum Open Credit'].astype(float)"
      ],
      "execution_count": null,
      "outputs": []
    },
    {
      "cell_type": "code",
      "metadata": {
        "colab": {
          "base_uri": "https://localhost:8080/"
        },
        "id": "z757mmJSwELZ",
        "outputId": "4f2a5f04-8a06-4b36-a4f4-6b001493a0ba"
      },
      "source": [
        "for i in range(len(df3['Maximum Open Credit'])):\n",
        "    if df3['Maximum Open Credit'] [i] == 0:\n",
        "      df3['Maximum Open Credit'] [i] = df3['Maximum Open Credit'].median()"
      ],
      "execution_count": null,
      "outputs": [
        {
          "output_type": "stream",
          "text": [
            "/usr/local/lib/python3.6/dist-packages/ipykernel_launcher.py:3: SettingWithCopyWarning: \n",
            "A value is trying to be set on a copy of a slice from a DataFrame\n",
            "\n",
            "See the caveats in the documentation: https://pandas.pydata.org/pandas-docs/stable/user_guide/indexing.html#returning-a-view-versus-a-copy\n",
            "  This is separate from the ipykernel package so we can avoid doing imports until\n"
          ],
          "name": "stderr"
        }
      ]
    },
    {
      "cell_type": "code",
      "metadata": {
        "id": "tzDx8alDu4D-"
      },
      "source": [
        "normalized_df3=(df3[['Monthly Debt','Maximum Open Credit']]-df3[['Monthly Debt','Maximum Open Credit']].min())/(df3[['Monthly Debt','Maximum Open Credit']].max()-df3[['Monthly Debt','Maximum Open Credit']].min())"
      ],
      "execution_count": null,
      "outputs": []
    },
    {
      "cell_type": "code",
      "metadata": {
        "id": "1j8xg0zZwU9Y"
      },
      "source": [
        "df3[['Maximum Open Credit','Monthly Debt']] = normalized_df3"
      ],
      "execution_count": null,
      "outputs": []
    },
    {
      "cell_type": "code",
      "metadata": {
        "colab": {
          "base_uri": "https://localhost:8080/",
          "height": 1000
        },
        "id": "_tnc_qslwama",
        "outputId": "87a9d6d3-c5a4-4777-9f6c-7055099bf5cb"
      },
      "source": [
        "df3\n"
      ],
      "execution_count": null,
      "outputs": [
        {
          "output_type": "execute_result",
          "data": {
            "text/html": [
              "<div>\n",
              "<style scoped>\n",
              "    .dataframe tbody tr th:only-of-type {\n",
              "        vertical-align: middle;\n",
              "    }\n",
              "\n",
              "    .dataframe tbody tr th {\n",
              "        vertical-align: top;\n",
              "    }\n",
              "\n",
              "    .dataframe thead th {\n",
              "        text-align: right;\n",
              "    }\n",
              "</style>\n",
              "<table border=\"1\" class=\"dataframe\">\n",
              "  <thead>\n",
              "    <tr style=\"text-align: right;\">\n",
              "      <th></th>\n",
              "      <th>index</th>\n",
              "      <th>Loan ID</th>\n",
              "      <th>Customer ID</th>\n",
              "      <th>Loan Status</th>\n",
              "      <th>Current Loan Amount</th>\n",
              "      <th>Term</th>\n",
              "      <th>Credit Score</th>\n",
              "      <th>Years in current job</th>\n",
              "      <th>Home Ownership</th>\n",
              "      <th>Annual Income</th>\n",
              "      <th>Purpose</th>\n",
              "      <th>Monthly Debt</th>\n",
              "      <th>Years of Credit History</th>\n",
              "      <th>Months since last delinquent</th>\n",
              "      <th>Number of Open Accounts</th>\n",
              "      <th>Number of Credit Problems</th>\n",
              "      <th>Current Credit Balance</th>\n",
              "      <th>Maximum Open Credit</th>\n",
              "      <th>Bankruptcies</th>\n",
              "      <th>Tax Liens</th>\n",
              "    </tr>\n",
              "  </thead>\n",
              "  <tbody>\n",
              "    <tr>\n",
              "      <th>0</th>\n",
              "      <td>0</td>\n",
              "      <td>6cf51492-02a2-423e-b93d-676f05b9ad53</td>\n",
              "      <td>7c202b37-2add-44e8-9aea-d5b119aea935</td>\n",
              "      <td>Charged Off</td>\n",
              "      <td>0.000117</td>\n",
              "      <td>Short Term</td>\n",
              "      <td>0.966787</td>\n",
              "      <td>&lt; 1 year</td>\n",
              "      <td>Rent</td>\n",
              "      <td>0.004892</td>\n",
              "      <td>Debt Consolidation</td>\n",
              "      <td>0.000111</td>\n",
              "      <td>0.215247</td>\n",
              "      <td>0.056818</td>\n",
              "      <td>0.157895</td>\n",
              "      <td>0.000000</td>\n",
              "      <td>0.003908</td>\n",
              "      <td>0.033889</td>\n",
              "      <td>0.000000</td>\n",
              "      <td>0.0</td>\n",
              "    </tr>\n",
              "    <tr>\n",
              "      <th>1</th>\n",
              "      <td>1</td>\n",
              "      <td>552e7ade-4292-4354-9ff9-c48031697d72</td>\n",
              "      <td>e7217b0a-07ac-47dd-b379-577b5a35b7c6</td>\n",
              "      <td>Charged Off</td>\n",
              "      <td>0.000245</td>\n",
              "      <td>Long Term</td>\n",
              "      <td>0.974007</td>\n",
              "      <td>10+ years</td>\n",
              "      <td>Home Mortgage</td>\n",
              "      <td>0.008848</td>\n",
              "      <td>Debt Consolidation</td>\n",
              "      <td>0.001111</td>\n",
              "      <td>0.345291</td>\n",
              "      <td>0.181818</td>\n",
              "      <td>0.184211</td>\n",
              "      <td>0.000000</td>\n",
              "      <td>0.020634</td>\n",
              "      <td>0.038889</td>\n",
              "      <td>0.000000</td>\n",
              "      <td>0.0</td>\n",
              "    </tr>\n",
              "    <tr>\n",
              "      <th>2</th>\n",
              "      <td>2</td>\n",
              "      <td>9b5e32b3-8d76-4801-afc8-d729d5a2e6b9</td>\n",
              "      <td>0a62fc41-16c8-40b5-92ff-9e4b763ce714</td>\n",
              "      <td>Charged Off</td>\n",
              "      <td>0.000156</td>\n",
              "      <td>Short Term</td>\n",
              "      <td>0.961011</td>\n",
              "      <td>9 years</td>\n",
              "      <td>Home Mortgage</td>\n",
              "      <td>0.006476</td>\n",
              "      <td>Home Improvements</td>\n",
              "      <td>0.000209</td>\n",
              "      <td>0.195815</td>\n",
              "      <td>0.181818</td>\n",
              "      <td>0.144737</td>\n",
              "      <td>0.066667</td>\n",
              "      <td>0.006516</td>\n",
              "      <td>0.054231</td>\n",
              "      <td>0.142857</td>\n",
              "      <td>0.0</td>\n",
              "    </tr>\n",
              "    <tr>\n",
              "      <th>3</th>\n",
              "      <td>3</td>\n",
              "      <td>5419b7c7-ac11-4be2-a8a7-b131fb6d6dbe</td>\n",
              "      <td>30f36c59-5182-4482-8bbb-5b736849ae43</td>\n",
              "      <td>Charged Off</td>\n",
              "      <td>0.000112</td>\n",
              "      <td>Short Term</td>\n",
              "      <td>0.984116</td>\n",
              "      <td>3 years</td>\n",
              "      <td>Rent</td>\n",
              "      <td>0.003460</td>\n",
              "      <td>Debt Consolidation</td>\n",
              "      <td>0.000619</td>\n",
              "      <td>0.095665</td>\n",
              "      <td>0.181818</td>\n",
              "      <td>0.276316</td>\n",
              "      <td>0.000000</td>\n",
              "      <td>0.004050</td>\n",
              "      <td>0.043199</td>\n",
              "      <td>0.000000</td>\n",
              "      <td>0.0</td>\n",
              "    </tr>\n",
              "    <tr>\n",
              "      <th>4</th>\n",
              "      <td>4</td>\n",
              "      <td>1450910f-9495-4fc9-afaf-9bdf4b9821df</td>\n",
              "      <td>70c26012-bba5-42c0-8dcb-75295ada31bb</td>\n",
              "      <td>Charged Off</td>\n",
              "      <td>0.000093</td>\n",
              "      <td>Long Term</td>\n",
              "      <td>0.906137</td>\n",
              "      <td>10+ years</td>\n",
              "      <td>Home Mortgage</td>\n",
              "      <td>0.004934</td>\n",
              "      <td>Home Improvements</td>\n",
              "      <td>0.000277</td>\n",
              "      <td>0.195815</td>\n",
              "      <td>0.142045</td>\n",
              "      <td>0.171053</td>\n",
              "      <td>0.066667</td>\n",
              "      <td>0.009774</td>\n",
              "      <td>0.021959</td>\n",
              "      <td>0.142857</td>\n",
              "      <td>0.0</td>\n",
              "    </tr>\n",
              "    <tr>\n",
              "      <th>...</th>\n",
              "      <td>...</td>\n",
              "      <td>...</td>\n",
              "      <td>...</td>\n",
              "      <td>...</td>\n",
              "      <td>...</td>\n",
              "      <td>...</td>\n",
              "      <td>...</td>\n",
              "      <td>...</td>\n",
              "      <td>...</td>\n",
              "      <td>...</td>\n",
              "      <td>...</td>\n",
              "      <td>...</td>\n",
              "      <td>...</td>\n",
              "      <td>...</td>\n",
              "      <td>...</td>\n",
              "      <td>...</td>\n",
              "      <td>...</td>\n",
              "      <td>...</td>\n",
              "      <td>...</td>\n",
              "      <td>...</td>\n",
              "    </tr>\n",
              "    <tr>\n",
              "      <th>105233</th>\n",
              "      <td>111102</td>\n",
              "      <td>503f01e2-c3c4-4b10-886e-f15de57b6f1a</td>\n",
              "      <td>27a17610-1d8c-48a7-b0db-2d81a4fa099a</td>\n",
              "      <td>Fully Paid</td>\n",
              "      <td>0.000152</td>\n",
              "      <td>Long Term</td>\n",
              "      <td>0.014585</td>\n",
              "      <td>10+ years</td>\n",
              "      <td>Rent</td>\n",
              "      <td>0.004480</td>\n",
              "      <td>Debt Consolidation</td>\n",
              "      <td>0.000422</td>\n",
              "      <td>0.156951</td>\n",
              "      <td>0.278409</td>\n",
              "      <td>0.236842</td>\n",
              "      <td>0.000000</td>\n",
              "      <td>0.008512</td>\n",
              "      <td>0.038785</td>\n",
              "      <td>0.000000</td>\n",
              "      <td>0.0</td>\n",
              "    </tr>\n",
              "    <tr>\n",
              "      <th>105234</th>\n",
              "      <td>111103</td>\n",
              "      <td>8af53bc0-56a4-4801-a960-52a46a90b33f</td>\n",
              "      <td>c124ca71-f42a-47cc-8ec2-236f7e9868a5</td>\n",
              "      <td>Fully Paid</td>\n",
              "      <td>0.000147</td>\n",
              "      <td>Short Term</td>\n",
              "      <td>0.017473</td>\n",
              "      <td>10+ years</td>\n",
              "      <td>Home Mortgage</td>\n",
              "      <td>0.006535</td>\n",
              "      <td>Debt Consolidation</td>\n",
              "      <td>0.000327</td>\n",
              "      <td>0.183857</td>\n",
              "      <td>0.272727</td>\n",
              "      <td>0.144737</td>\n",
              "      <td>0.000000</td>\n",
              "      <td>0.010247</td>\n",
              "      <td>0.030555</td>\n",
              "      <td>0.000000</td>\n",
              "      <td>0.0</td>\n",
              "    </tr>\n",
              "    <tr>\n",
              "      <th>105235</th>\n",
              "      <td>111104</td>\n",
              "      <td>96efd327-f965-42ae-8b2b-d2555205ce19</td>\n",
              "      <td>7d959a54-8eeb-4df6-b582-046f889e4cff</td>\n",
              "      <td>Fully Paid</td>\n",
              "      <td>0.000099</td>\n",
              "      <td>Short Term</td>\n",
              "      <td>0.019350</td>\n",
              "      <td>5 years</td>\n",
              "      <td>Home Mortgage</td>\n",
              "      <td>0.007223</td>\n",
              "      <td>Debt Consolidation</td>\n",
              "      <td>0.000088</td>\n",
              "      <td>0.076233</td>\n",
              "      <td>0.181818</td>\n",
              "      <td>0.144737</td>\n",
              "      <td>0.000000</td>\n",
              "      <td>0.003008</td>\n",
              "      <td>0.052774</td>\n",
              "      <td>0.000000</td>\n",
              "      <td>0.0</td>\n",
              "    </tr>\n",
              "    <tr>\n",
              "      <th>105236</th>\n",
              "      <td>111105</td>\n",
              "      <td>ec19166c-70c5-4d49-adb6-fb3fc15024a2</td>\n",
              "      <td>5723fbf2-1ce8-4752-8bee-1bebf339f278</td>\n",
              "      <td>Fully Paid</td>\n",
              "      <td>0.000340</td>\n",
              "      <td>Short Term</td>\n",
              "      <td>0.005921</td>\n",
              "      <td>10+ years</td>\n",
              "      <td>Home Mortgage</td>\n",
              "      <td>0.008577</td>\n",
              "      <td>Debt Consolidation</td>\n",
              "      <td>0.000534</td>\n",
              "      <td>0.400598</td>\n",
              "      <td>0.051136</td>\n",
              "      <td>0.157895</td>\n",
              "      <td>0.000000</td>\n",
              "      <td>0.018676</td>\n",
              "      <td>0.064357</td>\n",
              "      <td>0.000000</td>\n",
              "      <td>0.0</td>\n",
              "    </tr>\n",
              "    <tr>\n",
              "      <th>105237</th>\n",
              "      <td>111106</td>\n",
              "      <td>f83ae0e1-bd30-46c7-9f72-f4f9fe2f36ca</td>\n",
              "      <td>74187e35-39c2-4010-ae0d-8bcd0544189e</td>\n",
              "      <td>Fully Paid</td>\n",
              "      <td>0.000087</td>\n",
              "      <td>Long Term</td>\n",
              "      <td>0.017762</td>\n",
              "      <td>&lt; 1 year</td>\n",
              "      <td>Own Home</td>\n",
              "      <td>0.013712</td>\n",
              "      <td>Debt Consolidation</td>\n",
              "      <td>0.000130</td>\n",
              "      <td>0.246637</td>\n",
              "      <td>0.090909</td>\n",
              "      <td>0.105263</td>\n",
              "      <td>0.000000</td>\n",
              "      <td>0.003950</td>\n",
              "      <td>0.029152</td>\n",
              "      <td>0.000000</td>\n",
              "      <td>0.0</td>\n",
              "    </tr>\n",
              "  </tbody>\n",
              "</table>\n",
              "<p>105238 rows × 20 columns</p>\n",
              "</div>"
            ],
            "text/plain": [
              "         index                               Loan ID  ... Bankruptcies Tax Liens\n",
              "0            0  6cf51492-02a2-423e-b93d-676f05b9ad53  ...     0.000000       0.0\n",
              "1            1  552e7ade-4292-4354-9ff9-c48031697d72  ...     0.000000       0.0\n",
              "2            2  9b5e32b3-8d76-4801-afc8-d729d5a2e6b9  ...     0.142857       0.0\n",
              "3            3  5419b7c7-ac11-4be2-a8a7-b131fb6d6dbe  ...     0.000000       0.0\n",
              "4            4  1450910f-9495-4fc9-afaf-9bdf4b9821df  ...     0.142857       0.0\n",
              "...        ...                                   ...  ...          ...       ...\n",
              "105233  111102  503f01e2-c3c4-4b10-886e-f15de57b6f1a  ...     0.000000       0.0\n",
              "105234  111103  8af53bc0-56a4-4801-a960-52a46a90b33f  ...     0.000000       0.0\n",
              "105235  111104  96efd327-f965-42ae-8b2b-d2555205ce19  ...     0.000000       0.0\n",
              "105236  111105  ec19166c-70c5-4d49-adb6-fb3fc15024a2  ...     0.000000       0.0\n",
              "105237  111106  f83ae0e1-bd30-46c7-9f72-f4f9fe2f36ca  ...     0.000000       0.0\n",
              "\n",
              "[105238 rows x 20 columns]"
            ]
          },
          "metadata": {
            "tags": []
          },
          "execution_count": 191
        }
      ]
    },
    {
      "cell_type": "code",
      "metadata": {
        "id": "NGwtj94ByTBO",
        "colab": {
          "base_uri": "https://localhost:8080/",
          "height": 282
        },
        "outputId": "81d2b7ad-9a22-4637-872a-ea80f58cfd1b"
      },
      "source": [
        "df3['Monthly Debt'].plot()"
      ],
      "execution_count": null,
      "outputs": [
        {
          "output_type": "execute_result",
          "data": {
            "text/plain": [
              "<matplotlib.axes._subplots.AxesSubplot at 0x7fd7d07775c0>"
            ]
          },
          "metadata": {
            "tags": []
          },
          "execution_count": 192
        },
        {
          "output_type": "display_data",
          "data": {
            "image/png": "[encoded data removed]",
            "text/plain": [
              "<Figure size 432x288 with 1 Axes>"
            ]
          },
          "metadata": {
            "tags": [],
            "needs_background": "light"
          }
        }
      ]
    },
    {
      "cell_type": "code",
      "metadata": {
        "colab": {
          "base_uri": "https://localhost:8080/",
          "height": 282
        },
        "id": "I-j2DfijzNYD",
        "outputId": "bf3287af-b10d-4e92-a3b1-6bd2af46ee39"
      },
      "source": [
        "df3['Monthly Debt'].plot.box()"
      ],
      "execution_count": null,
      "outputs": [
        {
          "output_type": "execute_result",
          "data": {
            "text/plain": [
              "<matplotlib.axes._subplots.AxesSubplot at 0x7fd7d074b320>"
            ]
          },
          "metadata": {
            "tags": []
          },
          "execution_count": 193
        },
        {
          "output_type": "display_data",
          "data": {
            "image/png": "[encoded data removed]",
            "text/plain": [
              "<Figure size 432x288 with 1 Axes>"
            ]
          },
          "metadata": {
            "tags": [],
            "needs_background": "light"
          }
        }
      ]
    },
    {
      "cell_type": "code",
      "metadata": {
        "id": "l8buJ3nE0FfN"
      },
      "source": [
        "import matplotlib.pyplot as plt\n"
      ],
      "execution_count": null,
      "outputs": []
    },
    {
      "cell_type": "code",
      "metadata": {
        "colab": {
          "base_uri": "https://localhost:8080/",
          "height": 827
        },
        "id": "JwRO73631NUf",
        "outputId": "ffd0285a-7f8e-42bc-9c1a-9e08447b24bf"
      },
      "source": [
        "plt.figure(figsize=None, dpi=500)\n",
        "df2['Credit Score'].plot.box()\n",
        "plt.savefig('Graph.png')"
      ],
      "execution_count": null,
      "outputs": [
        {
          "output_type": "display_data",
          "data": {
            "image/png": "[encoded data removed]",
            "text/plain": [
              "<Figure size 3000x2000 with 1 Axes>"
            ]
          },
          "metadata": {
            "tags": [],
            "needs_background": "light"
          }
        }
      ]
    },
    {
      "cell_type": "code",
      "metadata": {
        "id": "aUPiw_bw1V_V"
      },
      "source": [
        "#from sklearn.cluster import KMeans\n",
        "#m = KMeans(5)\n",
        "# m.fit(df3)\n",
        "#df3['cl'] = m.labels_\n",
        "#df3.plot.scatter('Monthly Debt', 'Credit Score', c='cl', colormap='gist_rainbow')"
      ],
      "execution_count": null,
      "outputs": []
    },
    {
      "cell_type": "code",
      "metadata": {
        "id": "KkkpAJJG5k6z",
        "colab": {
          "base_uri": "https://localhost:8080/"
        },
        "outputId": "58073a39-0b62-4b5b-a0ee-3fca20494955"
      },
      "source": [
        "df2.reset_index(inplace = True)\n",
        "for i in range(len(df2['Credit Score'])):\n",
        "  if df2['Credit Score'][i]>800:\n",
        "    # print(df2['Credit Score'][i])\n",
        "    df2['Credit Score'][i] = df2['Credit Score'][i]/10\n",
        "    # print(df2['Credit Score'][i])"
      ],
      "execution_count": null,
      "outputs": [
        {
          "output_type": "stream",
          "text": [
            "/usr/local/lib/python3.6/dist-packages/ipykernel_launcher.py:5: SettingWithCopyWarning: \n",
            "A value is trying to be set on a copy of a slice from a DataFrame\n",
            "\n",
            "See the caveats in the documentation: https://pandas.pydata.org/pandas-docs/stable/user_guide/indexing.html#returning-a-view-versus-a-copy\n",
            "  \"\"\"\n"
          ],
          "name": "stderr"
        }
      ]
    },
    {
      "cell_type": "code",
      "metadata": {
        "colab": {
          "base_uri": "https://localhost:8080/",
          "height": 840
        },
        "id": "JsoZsHvMkRNt",
        "outputId": "f9012b51-bc83-4c39-b6c4-9e624cbe7b63"
      },
      "source": [
        "plt.figure(figsize=None, dpi=500)\n",
        "df2['Credit Score'].plot.box()\n",
        "plt.savefig('Graph.png')"
      ],
      "execution_count": null,
      "outputs": [
        {
          "output_type": "display_data",
          "data": {
            "image/png": "[encoded data removed]",
            "text/plain": [
              "<Figure size 3000x2000 with 1 Axes>"
            ]
          },
          "metadata": {
            "tags": [],
            "needs_background": "light"
          }
        }
      ]
    },
    {
      "cell_type": "code",
      "metadata": {
        "colab": {
          "base_uri": "https://localhost:8080/"
        },
        "id": "CauOE11_lAXk",
        "outputId": "5e0a331c-06f6-4e66-db64-2ccaf96adceb"
      },
      "source": [
        "count=0\n",
        "for i in range(len(df2['Credit Score'])):\n",
        "  if df2['Credit Score'][i]<650:\n",
        "    count = count + 1\n",
        "print(count)\n"
      ],
      "execution_count": null,
      "outputs": [
        {
          "output_type": "stream",
          "text": [
            "2716\n"
          ],
          "name": "stdout"
        }
      ]
    },
    {
      "cell_type": "code",
      "metadata": {
        "id": "MxotimuTmxaJ"
      },
      "source": [
        "df5 = df2.copy()"
      ],
      "execution_count": null,
      "outputs": []
    },
    {
      "cell_type": "code",
      "metadata": {
        "colab": {
          "base_uri": "https://localhost:8080/"
        },
        "id": "0jtcAC35o1xI",
        "outputId": "780e98b8-3886-46cf-9529-c17c57f14129"
      },
      "source": [
        "for i in range(len(df2['Credit Score'])):\n",
        "  if df2['Credit Score'][i]<660:\n",
        "    df2['Credit Score'][i] = df2['Credit Score'].median()"
      ],
      "execution_count": null,
      "outputs": [
        {
          "output_type": "stream",
          "text": [
            "/usr/local/lib/python3.6/dist-packages/ipykernel_launcher.py:3: SettingWithCopyWarning: \n",
            "A value is trying to be set on a copy of a slice from a DataFrame\n",
            "\n",
            "See the caveats in the documentation: https://pandas.pydata.org/pandas-docs/stable/user_guide/indexing.html#returning-a-view-versus-a-copy\n",
            "  This is separate from the ipykernel package so we can avoid doing imports until\n"
          ],
          "name": "stderr"
        }
      ]
    },
    {
      "cell_type": "code",
      "metadata": {
        "colab": {
          "base_uri": "https://localhost:8080/",
          "height": 840
        },
        "id": "BSYCpl3kpUTO",
        "outputId": "95bdf90b-fe49-456f-96a7-8432546a9340"
      },
      "source": [
        "plt.figure(figsize=None, dpi=500)\n",
        "df2['Credit Score'].plot.box()\n",
        "plt.savefig('Graph.png')"
      ],
      "execution_count": null,
      "outputs": [
        {
          "output_type": "display_data",
          "data": {
            "image/png": "[encoded data removed]",
            "text/plain": [
              "<Figure size 3000x2000 with 1 Axes>"
            ]
          },
          "metadata": {
            "tags": [],
            "needs_background": "light"
          }
        }
      ]
    },
    {
      "cell_type": "code",
      "metadata": {
        "id": "2HKou6DBpXmu"
      },
      "source": [
        "# \"Rent\", \"Home Mortgage\", and \"Own\"\n",
        "count1 = 0\n",
        "for i in range(len(df2['Home Ownership'])):\n",
        "  if df2['Home Ownership'][i] == 'Rent' or 'Home Mortgage' or 'Own':\n",
        "    count1 = count1+1\n",
        "  else:\n",
        "    print(df2['Home Ownership'][i])\n",
        "\n",
        "#No values have been printed. This means that this column has only three values. Which is perfectly in line with Metadata."
      ],
      "execution_count": null,
      "outputs": []
    },
    {
      "cell_type": "code",
      "metadata": {
        "colab": {
          "base_uri": "https://localhost:8080/",
          "height": 278
        },
        "id": "9TVC--O-v768",
        "outputId": "d7dde347-0568-4ce1-abea-f9b764c57ffe"
      },
      "source": [
        "import seaborn as sns\n",
        "ax = sns.boxplot(data=df2, orient=\"h\", palette=\"Set2\")"
      ],
      "execution_count": null,
      "outputs": [
        {
          "output_type": "display_data",
          "data": {
            "image/png": "[encoded data removed]",
            "text/plain": [
              "<Figure size 432x288 with 1 Axes>"
            ]
          },
          "metadata": {
            "tags": [],
            "needs_background": "light"
          }
        }
      ]
    },
    {
      "cell_type": "code",
      "metadata": {
        "colab": {
          "base_uri": "https://localhost:8080/",
          "height": 883
        },
        "id": "KQsKJr2cwvSe",
        "outputId": "46b36b8c-875a-4d9d-98c9-67f253680918"
      },
      "source": [
        "plt.figure(figsize=None, dpi=500)\n",
        "df2['Current Loan Amount'].plot.box()\n",
        "plt.savefig('Graph.png')"
      ],
      "execution_count": null,
      "outputs": [
        {
          "output_type": "display_data",
          "data": {
            "image/png": "[encoded data removed]",
            "text/plain": [
              "<Figure size 3000x2000 with 1 Axes>"
            ]
          },
          "metadata": {
            "tags": [],
            "needs_background": "light"
          }
        }
      ]
    },
    {
      "cell_type": "code",
      "metadata": {
        "colab": {
          "base_uri": "https://localhost:8080/"
        },
        "id": "Pc-dlzpPxhlx",
        "outputId": "68607c5d-a173-4519-c83b-c599eda90d6b"
      },
      "source": [
        "df2['Current Loan Amount'].max()"
      ],
      "execution_count": null,
      "outputs": [
        {
          "output_type": "execute_result",
          "data": {
            "text/plain": [
              "99999999"
            ]
          },
          "metadata": {
            "tags": []
          },
          "execution_count": 206
        }
      ]
    },
    {
      "cell_type": "code",
      "metadata": {
        "colab": {
          "base_uri": "https://localhost:8080/"
        },
        "id": "QlT8B9JJxPiA",
        "outputId": "3a0a8ebb-e6be-4408-973a-f401467f8cf5"
      },
      "source": [
        "for i in range(len(df2['Current Loan Amount'])):\n",
        "  if df2['Current Loan Amount'][i]>99999997:\n",
        "    df2['Current Loan Amount'][i] = df2['Current Loan Amount'].median()\n"
      ],
      "execution_count": null,
      "outputs": [
        {
          "output_type": "stream",
          "text": [
            "/usr/local/lib/python3.6/dist-packages/ipykernel_launcher.py:3: SettingWithCopyWarning: \n",
            "A value is trying to be set on a copy of a slice from a DataFrame\n",
            "\n",
            "See the caveats in the documentation: https://pandas.pydata.org/pandas-docs/stable/user_guide/indexing.html#returning-a-view-versus-a-copy\n",
            "  This is separate from the ipykernel package so we can avoid doing imports until\n"
          ],
          "name": "stderr"
        }
      ]
    },
    {
      "cell_type": "code",
      "metadata": {
        "colab": {
          "base_uri": "https://localhost:8080/"
        },
        "id": "LWQz8j0tx0jA",
        "outputId": "d5344c36-fc53-440d-c314-33414bfc469f"
      },
      "source": [
        "for i in range(len(df2['Annual Income'])):\n",
        "  if df2['Annual Income'][i]==df2['Annual Income'].max():\n",
        "    df2['Annual Income'][i] = df2['Annual Income'].median()\n",
        "\n"
      ],
      "execution_count": null,
      "outputs": [
        {
          "output_type": "stream",
          "text": [
            "/usr/local/lib/python3.6/dist-packages/ipykernel_launcher.py:3: SettingWithCopyWarning: \n",
            "A value is trying to be set on a copy of a slice from a DataFrame\n",
            "\n",
            "See the caveats in the documentation: https://pandas.pydata.org/pandas-docs/stable/user_guide/indexing.html#returning-a-view-versus-a-copy\n",
            "  This is separate from the ipykernel package so we can avoid doing imports until\n"
          ],
          "name": "stderr"
        }
      ]
    },
    {
      "cell_type": "code",
      "metadata": {
        "colab": {
          "base_uri": "https://localhost:8080/"
        },
        "id": "IbIElBgxx0hZ",
        "outputId": "3678b583-3116-4768-a947-4f84ac0d05ae"
      },
      "source": [
        "for i in range(len(df2['Current Credit Balance'])):\n",
        "  if df2['Current Credit Balance'][i]==df2['Current Credit Balance'].max():\n",
        "    df2['Current Credit Balance'][i] = df2['Current Credit Balance'].median()\n",
        "\n"
      ],
      "execution_count": null,
      "outputs": [
        {
          "output_type": "stream",
          "text": [
            "/usr/local/lib/python3.6/dist-packages/ipykernel_launcher.py:3: SettingWithCopyWarning: \n",
            "A value is trying to be set on a copy of a slice from a DataFrame\n",
            "\n",
            "See the caveats in the documentation: https://pandas.pydata.org/pandas-docs/stable/user_guide/indexing.html#returning-a-view-versus-a-copy\n",
            "  This is separate from the ipykernel package so we can avoid doing imports until\n"
          ],
          "name": "stderr"
        }
      ]
    },
    {
      "cell_type": "code",
      "metadata": {
        "id": "FOBztR4ZskXL"
      },
      "source": [
        "df2.drop('index',\n",
        "  axis='columns', inplace=True)\n",
        "df2.drop('Loan ID',\n",
        "  axis='columns', inplace=True)\n",
        "df2.drop('Customer ID',\n",
        "  axis='columns', inplace=True)"
      ],
      "execution_count": null,
      "outputs": []
    },
    {
      "cell_type": "code",
      "metadata": {
        "colab": {
          "base_uri": "https://localhost:8080/",
          "height": 111
        },
        "id": "YjXk42iWndtt",
        "outputId": "04c18afb-7465-458b-b413-d05816dcf6c9"
      },
      "source": [
        "df2[['Current Loan Amount', 'Credit Score']].corr(method='pearson')"
      ],
      "execution_count": null,
      "outputs": [
        {
          "output_type": "execute_result",
          "data": {
            "text/html": [
              "<div>\n",
              "<style scoped>\n",
              "    .dataframe tbody tr th:only-of-type {\n",
              "        vertical-align: middle;\n",
              "    }\n",
              "\n",
              "    .dataframe tbody tr th {\n",
              "        vertical-align: top;\n",
              "    }\n",
              "\n",
              "    .dataframe thead th {\n",
              "        text-align: right;\n",
              "    }\n",
              "</style>\n",
              "<table border=\"1\" class=\"dataframe\">\n",
              "  <thead>\n",
              "    <tr style=\"text-align: right;\">\n",
              "      <th></th>\n",
              "      <th>Current Loan Amount</th>\n",
              "      <th>Credit Score</th>\n",
              "    </tr>\n",
              "  </thead>\n",
              "  <tbody>\n",
              "    <tr>\n",
              "      <th>Current Loan Amount</th>\n",
              "      <td>1.000000</td>\n",
              "      <td>-0.135994</td>\n",
              "    </tr>\n",
              "    <tr>\n",
              "      <th>Credit Score</th>\n",
              "      <td>-0.135994</td>\n",
              "      <td>1.000000</td>\n",
              "    </tr>\n",
              "  </tbody>\n",
              "</table>\n",
              "</div>"
            ],
            "text/plain": [
              "                     Current Loan Amount  Credit Score\n",
              "Current Loan Amount             1.000000     -0.135994\n",
              "Credit Score                   -0.135994      1.000000"
            ]
          },
          "metadata": {
            "tags": []
          },
          "execution_count": 211
        }
      ]
    },
    {
      "cell_type": "code",
      "metadata": {
        "colab": {
          "base_uri": "https://localhost:8080/",
          "height": 526
        },
        "id": "-kxNZmTwpquf",
        "outputId": "9132427d-a678-4678-d875-b168445ad939"
      },
      "source": [
        "df2.corr(method='pearson')"
      ],
      "execution_count": null,
      "outputs": [
        {
          "output_type": "execute_result",
          "data": {
            "text/html": [
              "<div>\n",
              "<style scoped>\n",
              "    .dataframe tbody tr th:only-of-type {\n",
              "        vertical-align: middle;\n",
              "    }\n",
              "\n",
              "    .dataframe tbody tr th {\n",
              "        vertical-align: top;\n",
              "    }\n",
              "\n",
              "    .dataframe thead th {\n",
              "        text-align: right;\n",
              "    }\n",
              "</style>\n",
              "<table border=\"1\" class=\"dataframe\">\n",
              "  <thead>\n",
              "    <tr style=\"text-align: right;\">\n",
              "      <th></th>\n",
              "      <th>level_0</th>\n",
              "      <th>Current Loan Amount</th>\n",
              "      <th>Credit Score</th>\n",
              "      <th>Annual Income</th>\n",
              "      <th>Years of Credit History</th>\n",
              "      <th>Months since last delinquent</th>\n",
              "      <th>Number of Open Accounts</th>\n",
              "      <th>Number of Credit Problems</th>\n",
              "      <th>Current Credit Balance</th>\n",
              "      <th>Bankruptcies</th>\n",
              "      <th>Tax Liens</th>\n",
              "    </tr>\n",
              "  </thead>\n",
              "  <tbody>\n",
              "    <tr>\n",
              "      <th>level_0</th>\n",
              "      <td>1.000000</td>\n",
              "      <td>0.015612</td>\n",
              "      <td>-0.203162</td>\n",
              "      <td>0.048681</td>\n",
              "      <td>-0.017073</td>\n",
              "      <td>-0.002597</td>\n",
              "      <td>0.000621</td>\n",
              "      <td>0.013231</td>\n",
              "      <td>0.001096</td>\n",
              "      <td>0.012900</td>\n",
              "      <td>0.003324</td>\n",
              "    </tr>\n",
              "    <tr>\n",
              "      <th>Current Loan Amount</th>\n",
              "      <td>0.015612</td>\n",
              "      <td>1.000000</td>\n",
              "      <td>-0.135994</td>\n",
              "      <td>0.351398</td>\n",
              "      <td>0.146218</td>\n",
              "      <td>-0.025641</td>\n",
              "      <td>0.191286</td>\n",
              "      <td>-0.069889</td>\n",
              "      <td>0.324535</td>\n",
              "      <td>-0.093477</td>\n",
              "      <td>0.017012</td>\n",
              "    </tr>\n",
              "    <tr>\n",
              "      <th>Credit Score</th>\n",
              "      <td>-0.203162</td>\n",
              "      <td>-0.135994</td>\n",
              "      <td>1.000000</td>\n",
              "      <td>0.019577</td>\n",
              "      <td>0.072787</td>\n",
              "      <td>0.008698</td>\n",
              "      <td>-0.018393</td>\n",
              "      <td>-0.052497</td>\n",
              "      <td>-0.009859</td>\n",
              "      <td>-0.042040</td>\n",
              "      <td>-0.020330</td>\n",
              "    </tr>\n",
              "    <tr>\n",
              "      <th>Annual Income</th>\n",
              "      <td>0.048681</td>\n",
              "      <td>0.351398</td>\n",
              "      <td>0.019577</td>\n",
              "      <td>1.000000</td>\n",
              "      <td>0.170774</td>\n",
              "      <td>-0.041750</td>\n",
              "      <td>0.156727</td>\n",
              "      <td>-0.015138</td>\n",
              "      <td>0.334150</td>\n",
              "      <td>-0.049424</td>\n",
              "      <td>0.045742</td>\n",
              "    </tr>\n",
              "    <tr>\n",
              "      <th>Years of Credit History</th>\n",
              "      <td>-0.017073</td>\n",
              "      <td>0.146218</td>\n",
              "      <td>0.072787</td>\n",
              "      <td>0.170774</td>\n",
              "      <td>1.000000</td>\n",
              "      <td>-0.015432</td>\n",
              "      <td>0.131347</td>\n",
              "      <td>0.062521</td>\n",
              "      <td>0.217185</td>\n",
              "      <td>0.066435</td>\n",
              "      <td>0.019568</td>\n",
              "    </tr>\n",
              "    <tr>\n",
              "      <th>Months since last delinquent</th>\n",
              "      <td>-0.002597</td>\n",
              "      <td>-0.025641</td>\n",
              "      <td>0.008698</td>\n",
              "      <td>-0.041750</td>\n",
              "      <td>-0.015432</td>\n",
              "      <td>1.000000</td>\n",
              "      <td>-0.016477</td>\n",
              "      <td>0.081004</td>\n",
              "      <td>-0.025806</td>\n",
              "      <td>0.088071</td>\n",
              "      <td>0.011995</td>\n",
              "    </tr>\n",
              "    <tr>\n",
              "      <th>Number of Open Accounts</th>\n",
              "      <td>0.000621</td>\n",
              "      <td>0.191286</td>\n",
              "      <td>-0.018393</td>\n",
              "      <td>0.156727</td>\n",
              "      <td>0.131347</td>\n",
              "      <td>-0.016477</td>\n",
              "      <td>1.000000</td>\n",
              "      <td>-0.013835</td>\n",
              "      <td>0.238129</td>\n",
              "      <td>-0.023857</td>\n",
              "      <td>0.007559</td>\n",
              "    </tr>\n",
              "    <tr>\n",
              "      <th>Number of Credit Problems</th>\n",
              "      <td>0.013231</td>\n",
              "      <td>-0.069889</td>\n",
              "      <td>-0.052497</td>\n",
              "      <td>-0.015138</td>\n",
              "      <td>0.062521</td>\n",
              "      <td>0.081004</td>\n",
              "      <td>-0.013835</td>\n",
              "      <td>1.000000</td>\n",
              "      <td>-0.118162</td>\n",
              "      <td>0.750407</td>\n",
              "      <td>0.589460</td>\n",
              "    </tr>\n",
              "    <tr>\n",
              "      <th>Current Credit Balance</th>\n",
              "      <td>0.001096</td>\n",
              "      <td>0.324535</td>\n",
              "      <td>-0.009859</td>\n",
              "      <td>0.334150</td>\n",
              "      <td>0.217185</td>\n",
              "      <td>-0.025806</td>\n",
              "      <td>0.238129</td>\n",
              "      <td>-0.118162</td>\n",
              "      <td>1.000000</td>\n",
              "      <td>-0.129338</td>\n",
              "      <td>-0.016650</td>\n",
              "    </tr>\n",
              "    <tr>\n",
              "      <th>Bankruptcies</th>\n",
              "      <td>0.012900</td>\n",
              "      <td>-0.093477</td>\n",
              "      <td>-0.042040</td>\n",
              "      <td>-0.049424</td>\n",
              "      <td>0.066435</td>\n",
              "      <td>0.088071</td>\n",
              "      <td>-0.023857</td>\n",
              "      <td>0.750407</td>\n",
              "      <td>-0.129338</td>\n",
              "      <td>1.000000</td>\n",
              "      <td>0.048362</td>\n",
              "    </tr>\n",
              "    <tr>\n",
              "      <th>Tax Liens</th>\n",
              "      <td>0.003324</td>\n",
              "      <td>0.017012</td>\n",
              "      <td>-0.020330</td>\n",
              "      <td>0.045742</td>\n",
              "      <td>0.019568</td>\n",
              "      <td>0.011995</td>\n",
              "      <td>0.007559</td>\n",
              "      <td>0.589460</td>\n",
              "      <td>-0.016650</td>\n",
              "      <td>0.048362</td>\n",
              "      <td>1.000000</td>\n",
              "    </tr>\n",
              "  </tbody>\n",
              "</table>\n",
              "</div>"
            ],
            "text/plain": [
              "                               level_0  ...  Tax Liens\n",
              "level_0                       1.000000  ...   0.003324\n",
              "Current Loan Amount           0.015612  ...   0.017012\n",
              "Credit Score                 -0.203162  ...  -0.020330\n",
              "Annual Income                 0.048681  ...   0.045742\n",
              "Years of Credit History      -0.017073  ...   0.019568\n",
              "Months since last delinquent -0.002597  ...   0.011995\n",
              "Number of Open Accounts       0.000621  ...   0.007559\n",
              "Number of Credit Problems     0.013231  ...   0.589460\n",
              "Current Credit Balance        0.001096  ...  -0.016650\n",
              "Bankruptcies                  0.012900  ...   0.048362\n",
              "Tax Liens                     0.003324  ...   1.000000\n",
              "\n",
              "[11 rows x 11 columns]"
            ]
          },
          "metadata": {
            "tags": []
          },
          "execution_count": 212
        }
      ]
    },
    {
      "cell_type": "code",
      "metadata": {
        "id": "yXMnjYf63hj5"
      },
      "source": [
        "df6 = df2.copy()"
      ],
      "execution_count": null,
      "outputs": []
    },
    {
      "cell_type": "code",
      "metadata": {
        "id": "TAIvFEq54Hzg"
      },
      "source": [
        "normalized_df7=(df6[['Current Loan Amount',\t'Credit Score',\t'Annual Income',\t'Years of Credit History',\t'Months since last delinquent',\t'Number of Open Accounts',\t'Number of Credit Problems',\t'Current Credit Balance',\t'Bankruptcies',\t'Tax Liens']]-df6[['Current Loan Amount',\t'Credit Score',\t'Annual Income',\t'Years of Credit History',\t'Months since last delinquent',\t'Number of Open Accounts',\t'Number of Credit Problems',\t'Current Credit Balance',\t'Bankruptcies',\t'Tax Liens']].min())/(df6[['Current Loan Amount',\t'Credit Score',\t'Annual Income',\t'Years of Credit History',\t'Months since last delinquent',\t'Number of Open Accounts',\t'Number of Credit Problems',\t'Current Credit Balance',\t'Bankruptcies',\t'Tax Liens']].max()-df6[['Current Loan Amount',\t'Credit Score',\t'Annual Income',\t'Years of Credit History',\t'Months since last delinquent',\t'Number of Open Accounts',\t'Number of Credit Problems',\t'Current Credit Balance',\t'Bankruptcies',\t'Tax Liens']].min())"
      ],
      "execution_count": null,
      "outputs": []
    },
    {
      "cell_type": "code",
      "metadata": {
        "id": "lxK6KcNA4Who"
      },
      "source": [
        "df6[['Current Loan Amount',\t'Credit Score',\t'Annual Income',\t'Years of Credit History',\t'Months since last delinquent',\t'Number of Open Accounts',\t'Number of Credit Problems',\t'Current Credit Balance',\t'Bankruptcies',\t'Tax Liens']] = normalized_df7"
      ],
      "execution_count": null,
      "outputs": []
    },
    {
      "cell_type": "code",
      "metadata": {
        "colab": {
          "base_uri": "https://localhost:8080/"
        },
        "id": "RZ-EPrSW4wzv",
        "outputId": "4e430356-6a00-4cc7-f11d-a6e570044b3c"
      },
      "source": [
        "for i in range(len(df6['Maximum Open Credit'])):\n",
        "  if isinstance(df6['Maximum Open Credit'] [i], str):\n",
        "    if df6['Maximum Open Credit'] [i] == '#VALUE!':\n",
        "      df6['Maximum Open Credit'] [i] = '0'\n",
        "df6['Maximum Open Credit'] = df6['Maximum Open Credit'].astype(float)\n",
        "for i in range(len(df6['Maximum Open Credit'])):\n",
        "    if df6['Maximum Open Credit'] [i] == 0:\n",
        "      df6['Maximum Open Credit'] [i] = df6['Maximum Open Credit'].median()\n",
        "\n"
      ],
      "execution_count": null,
      "outputs": [
        {
          "output_type": "stream",
          "text": [
            "/usr/local/lib/python3.6/dist-packages/ipykernel_launcher.py:4: SettingWithCopyWarning: \n",
            "A value is trying to be set on a copy of a slice from a DataFrame\n",
            "\n",
            "See the caveats in the documentation: https://pandas.pydata.org/pandas-docs/stable/user_guide/indexing.html#returning-a-view-versus-a-copy\n",
            "  after removing the cwd from sys.path.\n",
            "/usr/local/lib/python3.6/dist-packages/ipykernel_launcher.py:8: SettingWithCopyWarning: \n",
            "A value is trying to be set on a copy of a slice from a DataFrame\n",
            "\n",
            "See the caveats in the documentation: https://pandas.pydata.org/pandas-docs/stable/user_guide/indexing.html#returning-a-view-versus-a-copy\n",
            "  \n"
          ],
          "name": "stderr"
        }
      ]
    },
    {
      "cell_type": "code",
      "metadata": {
        "colab": {
          "base_uri": "https://localhost:8080/"
        },
        "id": "XOGLRedP5GOO",
        "outputId": "24ee49a6-f9ac-44a2-a25c-00505662f0c5"
      },
      "source": [
        "for i in range(len(df6['Monthly Debt'])):\n",
        "  if isinstance(df6['Monthly Debt'] [i], str):\n",
        "    if df6['Monthly Debt'] [i][0] == '$':\n",
        "      df6['Monthly Debt'] [i] = df6['Monthly Debt'] [i][1:]\n",
        "df6['Monthly Debt'] = df6['Monthly Debt'].astype(float)\n",
        "\n"
      ],
      "execution_count": null,
      "outputs": [
        {
          "output_type": "stream",
          "text": [
            "/usr/local/lib/python3.6/dist-packages/ipykernel_launcher.py:4: SettingWithCopyWarning: \n",
            "A value is trying to be set on a copy of a slice from a DataFrame\n",
            "\n",
            "See the caveats in the documentation: https://pandas.pydata.org/pandas-docs/stable/user_guide/indexing.html#returning-a-view-versus-a-copy\n",
            "  after removing the cwd from sys.path.\n"
          ],
          "name": "stderr"
        }
      ]
    },
    {
      "cell_type": "code",
      "metadata": {
        "id": "ye40zY6c6GAl"
      },
      "source": [
        "normalized_df6=(df6[['Monthly Debt','Maximum Open Credit']]-df6[['Monthly Debt','Maximum Open Credit']].min())/(df6[['Monthly Debt','Maximum Open Credit']].max()-df6[['Monthly Debt','Maximum Open Credit']].min())"
      ],
      "execution_count": null,
      "outputs": []
    },
    {
      "cell_type": "code",
      "metadata": {
        "id": "s0u8aGaW6M-U"
      },
      "source": [
        "df6[['Maximum Open Credit','Monthly Debt']] = normalized_df6"
      ],
      "execution_count": null,
      "outputs": []
    },
    {
      "cell_type": "code",
      "metadata": {
        "colab": {
          "base_uri": "https://localhost:8080/",
          "height": 660
        },
        "id": "IZDakyOF6TSk",
        "outputId": "74c4082f-3d03-4032-f46f-00506b7d9b4d"
      },
      "source": [
        "df6"
      ],
      "execution_count": null,
      "outputs": [
        {
          "output_type": "execute_result",
          "data": {
            "text/html": [
              "<div>\n",
              "<style scoped>\n",
              "    .dataframe tbody tr th:only-of-type {\n",
              "        vertical-align: middle;\n",
              "    }\n",
              "\n",
              "    .dataframe tbody tr th {\n",
              "        vertical-align: top;\n",
              "    }\n",
              "\n",
              "    .dataframe thead th {\n",
              "        text-align: right;\n",
              "    }\n",
              "</style>\n",
              "<table border=\"1\" class=\"dataframe\">\n",
              "  <thead>\n",
              "    <tr style=\"text-align: right;\">\n",
              "      <th></th>\n",
              "      <th>level_0</th>\n",
              "      <th>Loan Status</th>\n",
              "      <th>Current Loan Amount</th>\n",
              "      <th>Term</th>\n",
              "      <th>Credit Score</th>\n",
              "      <th>Years in current job</th>\n",
              "      <th>Home Ownership</th>\n",
              "      <th>Annual Income</th>\n",
              "      <th>Purpose</th>\n",
              "      <th>Monthly Debt</th>\n",
              "      <th>Years of Credit History</th>\n",
              "      <th>Months since last delinquent</th>\n",
              "      <th>Number of Open Accounts</th>\n",
              "      <th>Number of Credit Problems</th>\n",
              "      <th>Current Credit Balance</th>\n",
              "      <th>Maximum Open Credit</th>\n",
              "      <th>Bankruptcies</th>\n",
              "      <th>Tax Liens</th>\n",
              "    </tr>\n",
              "  </thead>\n",
              "  <tbody>\n",
              "    <tr>\n",
              "      <th>0</th>\n",
              "      <td>0</td>\n",
              "      <td>Charged Off</td>\n",
              "      <td>0.331817</td>\n",
              "      <td>Short Term</td>\n",
              "      <td>0.747253</td>\n",
              "      <td>&lt; 1 year</td>\n",
              "      <td>Rent</td>\n",
              "      <td>0.026318</td>\n",
              "      <td>Debt Consolidation</td>\n",
              "      <td>0.000111</td>\n",
              "      <td>0.215247</td>\n",
              "      <td>0.056818</td>\n",
              "      <td>0.157895</td>\n",
              "      <td>0.000000</td>\n",
              "      <td>0.009893</td>\n",
              "      <td>0.033889</td>\n",
              "      <td>0.000000</td>\n",
              "      <td>0.0</td>\n",
              "    </tr>\n",
              "    <tr>\n",
              "      <th>1</th>\n",
              "      <td>1</td>\n",
              "      <td>Charged Off</td>\n",
              "      <td>0.693053</td>\n",
              "      <td>Long Term</td>\n",
              "      <td>0.802198</td>\n",
              "      <td>10+ years</td>\n",
              "      <td>Home Mortgage</td>\n",
              "      <td>0.047599</td>\n",
              "      <td>Debt Consolidation</td>\n",
              "      <td>0.001111</td>\n",
              "      <td>0.345291</td>\n",
              "      <td>0.181818</td>\n",
              "      <td>0.184211</td>\n",
              "      <td>0.000000</td>\n",
              "      <td>0.052238</td>\n",
              "      <td>0.038889</td>\n",
              "      <td>0.000000</td>\n",
              "      <td>0.0</td>\n",
              "    </tr>\n",
              "    <tr>\n",
              "      <th>2</th>\n",
              "      <td>2</td>\n",
              "      <td>Charged Off</td>\n",
              "      <td>0.441612</td>\n",
              "      <td>Short Term</td>\n",
              "      <td>0.703297</td>\n",
              "      <td>9 years</td>\n",
              "      <td>Home Mortgage</td>\n",
              "      <td>0.034838</td>\n",
              "      <td>Home Improvements</td>\n",
              "      <td>0.000209</td>\n",
              "      <td>0.195815</td>\n",
              "      <td>0.181818</td>\n",
              "      <td>0.144737</td>\n",
              "      <td>0.066667</td>\n",
              "      <td>0.016495</td>\n",
              "      <td>0.054231</td>\n",
              "      <td>0.142857</td>\n",
              "      <td>0.0</td>\n",
              "    </tr>\n",
              "    <tr>\n",
              "      <th>3</th>\n",
              "      <td>3</td>\n",
              "      <td>Charged Off</td>\n",
              "      <td>0.317234</td>\n",
              "      <td>Short Term</td>\n",
              "      <td>0.879121</td>\n",
              "      <td>3 years</td>\n",
              "      <td>Rent</td>\n",
              "      <td>0.018614</td>\n",
              "      <td>Debt Consolidation</td>\n",
              "      <td>0.000619</td>\n",
              "      <td>0.095665</td>\n",
              "      <td>0.181818</td>\n",
              "      <td>0.276316</td>\n",
              "      <td>0.000000</td>\n",
              "      <td>0.010254</td>\n",
              "      <td>0.043199</td>\n",
              "      <td>0.000000</td>\n",
              "      <td>0.0</td>\n",
              "    </tr>\n",
              "    <tr>\n",
              "      <th>4</th>\n",
              "      <td>4</td>\n",
              "      <td>Charged Off</td>\n",
              "      <td>0.262774</td>\n",
              "      <td>Long Term</td>\n",
              "      <td>0.285714</td>\n",
              "      <td>10+ years</td>\n",
              "      <td>Home Mortgage</td>\n",
              "      <td>0.026540</td>\n",
              "      <td>Home Improvements</td>\n",
              "      <td>0.000277</td>\n",
              "      <td>0.195815</td>\n",
              "      <td>0.142045</td>\n",
              "      <td>0.171053</td>\n",
              "      <td>0.066667</td>\n",
              "      <td>0.024744</td>\n",
              "      <td>0.021959</td>\n",
              "      <td>0.142857</td>\n",
              "      <td>0.0</td>\n",
              "    </tr>\n",
              "    <tr>\n",
              "      <th>...</th>\n",
              "      <td>...</td>\n",
              "      <td>...</td>\n",
              "      <td>...</td>\n",
              "      <td>...</td>\n",
              "      <td>...</td>\n",
              "      <td>...</td>\n",
              "      <td>...</td>\n",
              "      <td>...</td>\n",
              "      <td>...</td>\n",
              "      <td>...</td>\n",
              "      <td>...</td>\n",
              "      <td>...</td>\n",
              "      <td>...</td>\n",
              "      <td>...</td>\n",
              "      <td>...</td>\n",
              "      <td>...</td>\n",
              "      <td>...</td>\n",
              "      <td>...</td>\n",
              "    </tr>\n",
              "    <tr>\n",
              "      <th>105233</th>\n",
              "      <td>105233</td>\n",
              "      <td>Fully Paid</td>\n",
              "      <td>0.428527</td>\n",
              "      <td>Long Term</td>\n",
              "      <td>0.285714</td>\n",
              "      <td>10+ years</td>\n",
              "      <td>Rent</td>\n",
              "      <td>0.024098</td>\n",
              "      <td>Debt Consolidation</td>\n",
              "      <td>0.000422</td>\n",
              "      <td>0.156951</td>\n",
              "      <td>0.278409</td>\n",
              "      <td>0.236842</td>\n",
              "      <td>0.000000</td>\n",
              "      <td>0.021550</td>\n",
              "      <td>0.038785</td>\n",
              "      <td>0.000000</td>\n",
              "      <td>0.0</td>\n",
              "    </tr>\n",
              "    <tr>\n",
              "      <th>105234</th>\n",
              "      <td>105234</td>\n",
              "      <td>Fully Paid</td>\n",
              "      <td>0.416742</td>\n",
              "      <td>Short Term</td>\n",
              "      <td>0.505495</td>\n",
              "      <td>10+ years</td>\n",
              "      <td>Home Mortgage</td>\n",
              "      <td>0.035153</td>\n",
              "      <td>Debt Consolidation</td>\n",
              "      <td>0.000327</td>\n",
              "      <td>0.183857</td>\n",
              "      <td>0.272727</td>\n",
              "      <td>0.144737</td>\n",
              "      <td>0.000000</td>\n",
              "      <td>0.025943</td>\n",
              "      <td>0.030555</td>\n",
              "      <td>0.000000</td>\n",
              "      <td>0.0</td>\n",
              "    </tr>\n",
              "    <tr>\n",
              "      <th>105235</th>\n",
              "      <td>105235</td>\n",
              "      <td>Fully Paid</td>\n",
              "      <td>0.280409</td>\n",
              "      <td>Short Term</td>\n",
              "      <td>0.648352</td>\n",
              "      <td>5 years</td>\n",
              "      <td>Home Mortgage</td>\n",
              "      <td>0.038857</td>\n",
              "      <td>Debt Consolidation</td>\n",
              "      <td>0.000088</td>\n",
              "      <td>0.076233</td>\n",
              "      <td>0.181818</td>\n",
              "      <td>0.144737</td>\n",
              "      <td>0.000000</td>\n",
              "      <td>0.007615</td>\n",
              "      <td>0.052774</td>\n",
              "      <td>0.000000</td>\n",
              "      <td>0.0</td>\n",
              "    </tr>\n",
              "    <tr>\n",
              "      <th>105236</th>\n",
              "      <td>105236</td>\n",
              "      <td>Fully Paid</td>\n",
              "      <td>0.959643</td>\n",
              "      <td>Short Term</td>\n",
              "      <td>0.703297</td>\n",
              "      <td>10+ years</td>\n",
              "      <td>Home Mortgage</td>\n",
              "      <td>0.046139</td>\n",
              "      <td>Debt Consolidation</td>\n",
              "      <td>0.000534</td>\n",
              "      <td>0.400598</td>\n",
              "      <td>0.051136</td>\n",
              "      <td>0.157895</td>\n",
              "      <td>0.000000</td>\n",
              "      <td>0.047281</td>\n",
              "      <td>0.064357</td>\n",
              "      <td>0.000000</td>\n",
              "      <td>0.0</td>\n",
              "    </tr>\n",
              "    <tr>\n",
              "      <th>105237</th>\n",
              "      <td>105237</td>\n",
              "      <td>Fully Paid</td>\n",
              "      <td>0.246383</td>\n",
              "      <td>Long Term</td>\n",
              "      <td>0.527473</td>\n",
              "      <td>&lt; 1 year</td>\n",
              "      <td>Own Home</td>\n",
              "      <td>0.073759</td>\n",
              "      <td>Debt Consolidation</td>\n",
              "      <td>0.000130</td>\n",
              "      <td>0.246637</td>\n",
              "      <td>0.090909</td>\n",
              "      <td>0.105263</td>\n",
              "      <td>0.000000</td>\n",
              "      <td>0.010000</td>\n",
              "      <td>0.029152</td>\n",
              "      <td>0.000000</td>\n",
              "      <td>0.0</td>\n",
              "    </tr>\n",
              "  </tbody>\n",
              "</table>\n",
              "<p>105238 rows × 18 columns</p>\n",
              "</div>"
            ],
            "text/plain": [
              "        level_0  Loan Status  ...  Bankruptcies Tax Liens\n",
              "0             0  Charged Off  ...      0.000000       0.0\n",
              "1             1  Charged Off  ...      0.000000       0.0\n",
              "2             2  Charged Off  ...      0.142857       0.0\n",
              "3             3  Charged Off  ...      0.000000       0.0\n",
              "4             4  Charged Off  ...      0.142857       0.0\n",
              "...         ...          ...  ...           ...       ...\n",
              "105233   105233   Fully Paid  ...      0.000000       0.0\n",
              "105234   105234   Fully Paid  ...      0.000000       0.0\n",
              "105235   105235   Fully Paid  ...      0.000000       0.0\n",
              "105236   105236   Fully Paid  ...      0.000000       0.0\n",
              "105237   105237   Fully Paid  ...      0.000000       0.0\n",
              "\n",
              "[105238 rows x 18 columns]"
            ]
          },
          "metadata": {
            "tags": []
          },
          "execution_count": 220
        }
      ]
    },
    {
      "cell_type": "code",
      "metadata": {
        "colab": {
          "base_uri": "https://localhost:8080/"
        },
        "id": "eEXhVPYl6cYE",
        "outputId": "f6f11a57-60fb-4e46-9e2a-885b652bf857"
      },
      "source": [
        "df6['Loan Status'].unique()"
      ],
      "execution_count": null,
      "outputs": [
        {
          "output_type": "execute_result",
          "data": {
            "text/plain": [
              "array(['Charged Off', 'Fully Paid'], dtype=object)"
            ]
          },
          "metadata": {
            "tags": []
          },
          "execution_count": 221
        }
      ]
    },
    {
      "cell_type": "code",
      "metadata": {
        "colab": {
          "base_uri": "https://localhost:8080/"
        },
        "id": "tnMq976T61Kc",
        "outputId": "7d852c63-0562-4c9c-8003-7c5abcd46160"
      },
      "source": [
        "for i in range(len(df6['Loan Status'])):\n",
        "  if df6['Loan Status'] [i] == 'Charged Off':\n",
        "    df6['Loan Status'] [i] = 0\n"
      ],
      "execution_count": null,
      "outputs": [
        {
          "output_type": "stream",
          "text": [
            "/usr/local/lib/python3.6/dist-packages/ipykernel_launcher.py:3: SettingWithCopyWarning: \n",
            "A value is trying to be set on a copy of a slice from a DataFrame\n",
            "\n",
            "See the caveats in the documentation: https://pandas.pydata.org/pandas-docs/stable/user_guide/indexing.html#returning-a-view-versus-a-copy\n",
            "  This is separate from the ipykernel package so we can avoid doing imports until\n"
          ],
          "name": "stderr"
        }
      ]
    },
    {
      "cell_type": "code",
      "metadata": {
        "colab": {
          "base_uri": "https://localhost:8080/"
        },
        "id": "7mR-J8VS8R3D",
        "outputId": "d8d0fc0d-6cd5-44e9-ab59-811104c86078"
      },
      "source": [
        "for i in range(len(df6['Loan Status'])):\n",
        "  if df6['Loan Status'] [i] == 'Fully Paid':\n",
        "    df6['Loan Status'] [i] = 1\n"
      ],
      "execution_count": null,
      "outputs": [
        {
          "output_type": "stream",
          "text": [
            "/usr/local/lib/python3.6/dist-packages/ipykernel_launcher.py:3: SettingWithCopyWarning: \n",
            "A value is trying to be set on a copy of a slice from a DataFrame\n",
            "\n",
            "See the caveats in the documentation: https://pandas.pydata.org/pandas-docs/stable/user_guide/indexing.html#returning-a-view-versus-a-copy\n",
            "  This is separate from the ipykernel package so we can avoid doing imports until\n"
          ],
          "name": "stderr"
        }
      ]
    },
    {
      "cell_type": "code",
      "metadata": {
        "colab": {
          "base_uri": "https://localhost:8080/"
        },
        "id": "te2lLOsn9Bzg",
        "outputId": "0f00a099-04a6-46c2-b10c-ff935e65a69d"
      },
      "source": [
        "df6['Term'].unique()"
      ],
      "execution_count": null,
      "outputs": [
        {
          "output_type": "execute_result",
          "data": {
            "text/plain": [
              "array(['Short Term', 'Long Term'], dtype=object)"
            ]
          },
          "metadata": {
            "tags": []
          },
          "execution_count": 224
        }
      ]
    },
    {
      "cell_type": "code",
      "metadata": {
        "colab": {
          "base_uri": "https://localhost:8080/"
        },
        "id": "5bWOk9nQ9Lro",
        "outputId": "4139ee07-79a7-46c3-a4c3-dc4ee9ab208e"
      },
      "source": [
        "for i in range(len(df6['Term'])):\n",
        "  if df6['Term'] [i] == 'Short Term':\n",
        "    df6['Term'] [i] = 0\n",
        "  else:\n",
        "    df6['Term'] [i] = 1"
      ],
      "execution_count": null,
      "outputs": [
        {
          "output_type": "stream",
          "text": [
            "/usr/local/lib/python3.6/dist-packages/ipykernel_launcher.py:3: SettingWithCopyWarning: \n",
            "A value is trying to be set on a copy of a slice from a DataFrame\n",
            "\n",
            "See the caveats in the documentation: https://pandas.pydata.org/pandas-docs/stable/user_guide/indexing.html#returning-a-view-versus-a-copy\n",
            "  This is separate from the ipykernel package so we can avoid doing imports until\n",
            "/usr/local/lib/python3.6/dist-packages/ipykernel_launcher.py:5: SettingWithCopyWarning: \n",
            "A value is trying to be set on a copy of a slice from a DataFrame\n",
            "\n",
            "See the caveats in the documentation: https://pandas.pydata.org/pandas-docs/stable/user_guide/indexing.html#returning-a-view-versus-a-copy\n",
            "  \"\"\"\n"
          ],
          "name": "stderr"
        }
      ]
    },
    {
      "cell_type": "code",
      "metadata": {
        "colab": {
          "base_uri": "https://localhost:8080/",
          "height": 660
        },
        "id": "SMdupqVj-CmO",
        "outputId": "df3d41fd-1a20-47f2-f8cc-c8f16e217632"
      },
      "source": [
        "df6"
      ],
      "execution_count": null,
      "outputs": [
        {
          "output_type": "execute_result",
          "data": {
            "text/html": [
              "<div>\n",
              "<style scoped>\n",
              "    .dataframe tbody tr th:only-of-type {\n",
              "        vertical-align: middle;\n",
              "    }\n",
              "\n",
              "    .dataframe tbody tr th {\n",
              "        vertical-align: top;\n",
              "    }\n",
              "\n",
              "    .dataframe thead th {\n",
              "        text-align: right;\n",
              "    }\n",
              "</style>\n",
              "<table border=\"1\" class=\"dataframe\">\n",
              "  <thead>\n",
              "    <tr style=\"text-align: right;\">\n",
              "      <th></th>\n",
              "      <th>level_0</th>\n",
              "      <th>Loan Status</th>\n",
              "      <th>Current Loan Amount</th>\n",
              "      <th>Term</th>\n",
              "      <th>Credit Score</th>\n",
              "      <th>Years in current job</th>\n",
              "      <th>Home Ownership</th>\n",
              "      <th>Annual Income</th>\n",
              "      <th>Purpose</th>\n",
              "      <th>Monthly Debt</th>\n",
              "      <th>Years of Credit History</th>\n",
              "      <th>Months since last delinquent</th>\n",
              "      <th>Number of Open Accounts</th>\n",
              "      <th>Number of Credit Problems</th>\n",
              "      <th>Current Credit Balance</th>\n",
              "      <th>Maximum Open Credit</th>\n",
              "      <th>Bankruptcies</th>\n",
              "      <th>Tax Liens</th>\n",
              "    </tr>\n",
              "  </thead>\n",
              "  <tbody>\n",
              "    <tr>\n",
              "      <th>0</th>\n",
              "      <td>0</td>\n",
              "      <td>0</td>\n",
              "      <td>0.331817</td>\n",
              "      <td>0</td>\n",
              "      <td>0.747253</td>\n",
              "      <td>&lt; 1 year</td>\n",
              "      <td>Rent</td>\n",
              "      <td>0.026318</td>\n",
              "      <td>Debt Consolidation</td>\n",
              "      <td>0.000111</td>\n",
              "      <td>0.215247</td>\n",
              "      <td>0.056818</td>\n",
              "      <td>0.157895</td>\n",
              "      <td>0.000000</td>\n",
              "      <td>0.009893</td>\n",
              "      <td>0.033889</td>\n",
              "      <td>0.000000</td>\n",
              "      <td>0.0</td>\n",
              "    </tr>\n",
              "    <tr>\n",
              "      <th>1</th>\n",
              "      <td>1</td>\n",
              "      <td>0</td>\n",
              "      <td>0.693053</td>\n",
              "      <td>1</td>\n",
              "      <td>0.802198</td>\n",
              "      <td>10+ years</td>\n",
              "      <td>Home Mortgage</td>\n",
              "      <td>0.047599</td>\n",
              "      <td>Debt Consolidation</td>\n",
              "      <td>0.001111</td>\n",
              "      <td>0.345291</td>\n",
              "      <td>0.181818</td>\n",
              "      <td>0.184211</td>\n",
              "      <td>0.000000</td>\n",
              "      <td>0.052238</td>\n",
              "      <td>0.038889</td>\n",
              "      <td>0.000000</td>\n",
              "      <td>0.0</td>\n",
              "    </tr>\n",
              "    <tr>\n",
              "      <th>2</th>\n",
              "      <td>2</td>\n",
              "      <td>0</td>\n",
              "      <td>0.441612</td>\n",
              "      <td>0</td>\n",
              "      <td>0.703297</td>\n",
              "      <td>9 years</td>\n",
              "      <td>Home Mortgage</td>\n",
              "      <td>0.034838</td>\n",
              "      <td>Home Improvements</td>\n",
              "      <td>0.000209</td>\n",
              "      <td>0.195815</td>\n",
              "      <td>0.181818</td>\n",
              "      <td>0.144737</td>\n",
              "      <td>0.066667</td>\n",
              "      <td>0.016495</td>\n",
              "      <td>0.054231</td>\n",
              "      <td>0.142857</td>\n",
              "      <td>0.0</td>\n",
              "    </tr>\n",
              "    <tr>\n",
              "      <th>3</th>\n",
              "      <td>3</td>\n",
              "      <td>0</td>\n",
              "      <td>0.317234</td>\n",
              "      <td>0</td>\n",
              "      <td>0.879121</td>\n",
              "      <td>3 years</td>\n",
              "      <td>Rent</td>\n",
              "      <td>0.018614</td>\n",
              "      <td>Debt Consolidation</td>\n",
              "      <td>0.000619</td>\n",
              "      <td>0.095665</td>\n",
              "      <td>0.181818</td>\n",
              "      <td>0.276316</td>\n",
              "      <td>0.000000</td>\n",
              "      <td>0.010254</td>\n",
              "      <td>0.043199</td>\n",
              "      <td>0.000000</td>\n",
              "      <td>0.0</td>\n",
              "    </tr>\n",
              "    <tr>\n",
              "      <th>4</th>\n",
              "      <td>4</td>\n",
              "      <td>0</td>\n",
              "      <td>0.262774</td>\n",
              "      <td>1</td>\n",
              "      <td>0.285714</td>\n",
              "      <td>10+ years</td>\n",
              "      <td>Home Mortgage</td>\n",
              "      <td>0.026540</td>\n",
              "      <td>Home Improvements</td>\n",
              "      <td>0.000277</td>\n",
              "      <td>0.195815</td>\n",
              "      <td>0.142045</td>\n",
              "      <td>0.171053</td>\n",
              "      <td>0.066667</td>\n",
              "      <td>0.024744</td>\n",
              "      <td>0.021959</td>\n",
              "      <td>0.142857</td>\n",
              "      <td>0.0</td>\n",
              "    </tr>\n",
              "    <tr>\n",
              "      <th>...</th>\n",
              "      <td>...</td>\n",
              "      <td>...</td>\n",
              "      <td>...</td>\n",
              "      <td>...</td>\n",
              "      <td>...</td>\n",
              "      <td>...</td>\n",
              "      <td>...</td>\n",
              "      <td>...</td>\n",
              "      <td>...</td>\n",
              "      <td>...</td>\n",
              "      <td>...</td>\n",
              "      <td>...</td>\n",
              "      <td>...</td>\n",
              "      <td>...</td>\n",
              "      <td>...</td>\n",
              "      <td>...</td>\n",
              "      <td>...</td>\n",
              "      <td>...</td>\n",
              "    </tr>\n",
              "    <tr>\n",
              "      <th>105233</th>\n",
              "      <td>105233</td>\n",
              "      <td>1</td>\n",
              "      <td>0.428527</td>\n",
              "      <td>1</td>\n",
              "      <td>0.285714</td>\n",
              "      <td>10+ years</td>\n",
              "      <td>Rent</td>\n",
              "      <td>0.024098</td>\n",
              "      <td>Debt Consolidation</td>\n",
              "      <td>0.000422</td>\n",
              "      <td>0.156951</td>\n",
              "      <td>0.278409</td>\n",
              "      <td>0.236842</td>\n",
              "      <td>0.000000</td>\n",
              "      <td>0.021550</td>\n",
              "      <td>0.038785</td>\n",
              "      <td>0.000000</td>\n",
              "      <td>0.0</td>\n",
              "    </tr>\n",
              "    <tr>\n",
              "      <th>105234</th>\n",
              "      <td>105234</td>\n",
              "      <td>1</td>\n",
              "      <td>0.416742</td>\n",
              "      <td>0</td>\n",
              "      <td>0.505495</td>\n",
              "      <td>10+ years</td>\n",
              "      <td>Home Mortgage</td>\n",
              "      <td>0.035153</td>\n",
              "      <td>Debt Consolidation</td>\n",
              "      <td>0.000327</td>\n",
              "      <td>0.183857</td>\n",
              "      <td>0.272727</td>\n",
              "      <td>0.144737</td>\n",
              "      <td>0.000000</td>\n",
              "      <td>0.025943</td>\n",
              "      <td>0.030555</td>\n",
              "      <td>0.000000</td>\n",
              "      <td>0.0</td>\n",
              "    </tr>\n",
              "    <tr>\n",
              "      <th>105235</th>\n",
              "      <td>105235</td>\n",
              "      <td>1</td>\n",
              "      <td>0.280409</td>\n",
              "      <td>0</td>\n",
              "      <td>0.648352</td>\n",
              "      <td>5 years</td>\n",
              "      <td>Home Mortgage</td>\n",
              "      <td>0.038857</td>\n",
              "      <td>Debt Consolidation</td>\n",
              "      <td>0.000088</td>\n",
              "      <td>0.076233</td>\n",
              "      <td>0.181818</td>\n",
              "      <td>0.144737</td>\n",
              "      <td>0.000000</td>\n",
              "      <td>0.007615</td>\n",
              "      <td>0.052774</td>\n",
              "      <td>0.000000</td>\n",
              "      <td>0.0</td>\n",
              "    </tr>\n",
              "    <tr>\n",
              "      <th>105236</th>\n",
              "      <td>105236</td>\n",
              "      <td>1</td>\n",
              "      <td>0.959643</td>\n",
              "      <td>0</td>\n",
              "      <td>0.703297</td>\n",
              "      <td>10+ years</td>\n",
              "      <td>Home Mortgage</td>\n",
              "      <td>0.046139</td>\n",
              "      <td>Debt Consolidation</td>\n",
              "      <td>0.000534</td>\n",
              "      <td>0.400598</td>\n",
              "      <td>0.051136</td>\n",
              "      <td>0.157895</td>\n",
              "      <td>0.000000</td>\n",
              "      <td>0.047281</td>\n",
              "      <td>0.064357</td>\n",
              "      <td>0.000000</td>\n",
              "      <td>0.0</td>\n",
              "    </tr>\n",
              "    <tr>\n",
              "      <th>105237</th>\n",
              "      <td>105237</td>\n",
              "      <td>1</td>\n",
              "      <td>0.246383</td>\n",
              "      <td>1</td>\n",
              "      <td>0.527473</td>\n",
              "      <td>&lt; 1 year</td>\n",
              "      <td>Own Home</td>\n",
              "      <td>0.073759</td>\n",
              "      <td>Debt Consolidation</td>\n",
              "      <td>0.000130</td>\n",
              "      <td>0.246637</td>\n",
              "      <td>0.090909</td>\n",
              "      <td>0.105263</td>\n",
              "      <td>0.000000</td>\n",
              "      <td>0.010000</td>\n",
              "      <td>0.029152</td>\n",
              "      <td>0.000000</td>\n",
              "      <td>0.0</td>\n",
              "    </tr>\n",
              "  </tbody>\n",
              "</table>\n",
              "<p>105238 rows × 18 columns</p>\n",
              "</div>"
            ],
            "text/plain": [
              "        level_0 Loan Status  ...  Bankruptcies Tax Liens\n",
              "0             0           0  ...      0.000000       0.0\n",
              "1             1           0  ...      0.000000       0.0\n",
              "2             2           0  ...      0.142857       0.0\n",
              "3             3           0  ...      0.000000       0.0\n",
              "4             4           0  ...      0.142857       0.0\n",
              "...         ...         ...  ...           ...       ...\n",
              "105233   105233           1  ...      0.000000       0.0\n",
              "105234   105234           1  ...      0.000000       0.0\n",
              "105235   105235           1  ...      0.000000       0.0\n",
              "105236   105236           1  ...      0.000000       0.0\n",
              "105237   105237           1  ...      0.000000       0.0\n",
              "\n",
              "[105238 rows x 18 columns]"
            ]
          },
          "metadata": {
            "tags": []
          },
          "execution_count": 226
        }
      ]
    },
    {
      "cell_type": "code",
      "metadata": {
        "colab": {
          "base_uri": "https://localhost:8080/"
        },
        "id": "B0jpgsbN_VZx",
        "outputId": "a64f2f43-71a1-42a7-dba8-76d18e5c6eb9"
      },
      "source": [
        "df6['Years in current job'].unique()"
      ],
      "execution_count": null,
      "outputs": [
        {
          "output_type": "execute_result",
          "data": {
            "text/plain": [
              "array(['< 1 year', '10+ years', '9 years', '3 years', '2 years',\n",
              "       '7 years', '6 years', '1 year', '5 years', '4 years', '8 years', 0],\n",
              "      dtype=object)"
            ]
          },
          "metadata": {
            "tags": []
          },
          "execution_count": 227
        }
      ]
    },
    {
      "cell_type": "code",
      "metadata": {
        "id": "7gZvijCM_SkM"
      },
      "source": [
        "df6['Years in current job'] = df6['Years in current job'].astype(str)"
      ],
      "execution_count": null,
      "outputs": []
    },
    {
      "cell_type": "code",
      "metadata": {
        "id": "QYH5Fz70_951"
      },
      "source": [
        "df6[\"Years in current job\"] = df6[\"Years in current job\"].str.replace(\"< 1 year\",\"1\", regex = True)\n",
        "df6[\"Years in current job\"] = df6[\"Years in current job\"].str.replace(\"1 year\",\"2\", regex = True)\n",
        "df6[\"Years in current job\"] = df6[\"Years in current job\"].str.replace(\"2 years\",\"3\", regex = True)\n",
        "df6[\"Years in current job\"] = df6[\"Years in current job\"].str.replace(\"3 years\",\"4\", regex = True)\n",
        "df6[\"Years in current job\"] = df6[\"Years in current job\"].str.replace(\"4 years\",\"5\", regex = True)\n",
        "df6[\"Years in current job\"] = df6[\"Years in current job\"].str.replace(\"5 years\",\"6\", regex = True)\n",
        "df6[\"Years in current job\"] = df6[\"Years in current job\"].str.replace(\"6 years\",\"7\", regex = True)\n",
        "df6[\"Years in current job\"] = df6[\"Years in current job\"].str.replace(\"7 years\",\"8\", regex = True)\n",
        "df6[\"Years in current job\"] = df6[\"Years in current job\"].str.replace(\"8 years\",\"9\", regex = True)\n",
        "df6[\"Years in current job\"] = df6[\"Years in current job\"].str.replace(\"9 years\",\"10\", regex = True)\n"
      ],
      "execution_count": null,
      "outputs": []
    },
    {
      "cell_type": "code",
      "metadata": {
        "colab": {
          "base_uri": "https://localhost:8080/"
        },
        "id": "D0bVhtkzEHpx",
        "outputId": "f7693285-de73-4295-e06f-2fc8d87b7137"
      },
      "source": [
        "for i in range(len(df6['Years in current job'])):\n",
        "  if df6['Years in current job'] [i] == '10+ years':\n",
        "    df6['Years in current job'] [i] = '11'"
      ],
      "execution_count": null,
      "outputs": [
        {
          "output_type": "stream",
          "text": [
            "/usr/local/lib/python3.6/dist-packages/ipykernel_launcher.py:3: SettingWithCopyWarning: \n",
            "A value is trying to be set on a copy of a slice from a DataFrame\n",
            "\n",
            "See the caveats in the documentation: https://pandas.pydata.org/pandas-docs/stable/user_guide/indexing.html#returning-a-view-versus-a-copy\n",
            "  This is separate from the ipykernel package so we can avoid doing imports until\n"
          ],
          "name": "stderr"
        }
      ]
    },
    {
      "cell_type": "code",
      "metadata": {
        "id": "MrSMwH1NCwJw"
      },
      "source": [
        "df6['Years in current job'] = df6['Years in current job'].astype(float)"
      ],
      "execution_count": null,
      "outputs": []
    },
    {
      "cell_type": "code",
      "metadata": {
        "colab": {
          "base_uri": "https://localhost:8080/"
        },
        "id": "JisvFU6sC7pu",
        "outputId": "c0a6b55a-8c5e-4c90-e179-61c9442ff280"
      },
      "source": [
        "df6['Home Ownership'].unique()"
      ],
      "execution_count": null,
      "outputs": [
        {
          "output_type": "execute_result",
          "data": {
            "text/plain": [
              "array(['Rent', 'Home Mortgage', 'Own Home', 'HaveMortgage'], dtype=object)"
            ]
          },
          "metadata": {
            "tags": []
          },
          "execution_count": 233
        }
      ]
    },
    {
      "cell_type": "code",
      "metadata": {
        "colab": {
          "base_uri": "https://localhost:8080/"
        },
        "id": "pt5vkiWLFBuq",
        "outputId": "278dd67c-2c77-4ca3-86df-ee2642da9233"
      },
      "source": [
        "for i in range(len(df6['Home Ownership'])):\n",
        "  if df6['Home Ownership'] [i] == 'Rent':\n",
        "    df6['Home Ownership'] [i] = 0\n",
        "  if df6['Home Ownership'] [i] == 'Own Home':\n",
        "    df6['Home Ownership'] [i] = 1\n",
        "  if df6['Home Ownership'] [i] == 'Home Mortgage':\n",
        "    df6['Home Ownership'] [i] = 2\n",
        "  if df6['Home Ownership'] [i] == 'HaveMortgage':\n",
        "    df6['Home Ownership'] [i] = 2\n",
        "\n",
        "\n",
        "\n"
      ],
      "execution_count": null,
      "outputs": [
        {
          "output_type": "stream",
          "text": [
            "/usr/local/lib/python3.6/dist-packages/ipykernel_launcher.py:3: SettingWithCopyWarning: \n",
            "A value is trying to be set on a copy of a slice from a DataFrame\n",
            "\n",
            "See the caveats in the documentation: https://pandas.pydata.org/pandas-docs/stable/user_guide/indexing.html#returning-a-view-versus-a-copy\n",
            "  This is separate from the ipykernel package so we can avoid doing imports until\n",
            "/usr/local/lib/python3.6/dist-packages/ipykernel_launcher.py:7: SettingWithCopyWarning: \n",
            "A value is trying to be set on a copy of a slice from a DataFrame\n",
            "\n",
            "See the caveats in the documentation: https://pandas.pydata.org/pandas-docs/stable/user_guide/indexing.html#returning-a-view-versus-a-copy\n",
            "  import sys\n",
            "/usr/local/lib/python3.6/dist-packages/ipykernel_launcher.py:5: SettingWithCopyWarning: \n",
            "A value is trying to be set on a copy of a slice from a DataFrame\n",
            "\n",
            "See the caveats in the documentation: https://pandas.pydata.org/pandas-docs/stable/user_guide/indexing.html#returning-a-view-versus-a-copy\n",
            "  \"\"\"\n",
            "/usr/local/lib/python3.6/dist-packages/ipykernel_launcher.py:9: SettingWithCopyWarning: \n",
            "A value is trying to be set on a copy of a slice from a DataFrame\n",
            "\n",
            "See the caveats in the documentation: https://pandas.pydata.org/pandas-docs/stable/user_guide/indexing.html#returning-a-view-versus-a-copy\n",
            "  if __name__ == '__main__':\n"
          ],
          "name": "stderr"
        }
      ]
    },
    {
      "cell_type": "code",
      "metadata": {
        "id": "Hu9Eunm5F0eK"
      },
      "source": [
        "df6['Home Ownership'] = df6['Home Ownership'].astype(float)"
      ],
      "execution_count": null,
      "outputs": []
    },
    {
      "cell_type": "code",
      "metadata": {
        "colab": {
          "base_uri": "https://localhost:8080/"
        },
        "id": "DszksYa3GQhJ",
        "outputId": "7f2507f0-4f97-4e3b-df63-e089d9ab9e1f"
      },
      "source": [
        "df6['Purpose'].unique()"
      ],
      "execution_count": null,
      "outputs": [
        {
          "output_type": "execute_result",
          "data": {
            "text/plain": [
              "array(['Debt Consolidation', 'Home Improvements', 'other',\n",
              "       'Business Loan', 'small_business', 'Other', 'moving', 'Buy a Car',\n",
              "       'Medical Bills', 'Buy House', 'Take a Trip', 'vacation',\n",
              "       'major_purchase', 'Educational Expenses', 'wedding',\n",
              "       'renewable_energy'], dtype=object)"
            ]
          },
          "metadata": {
            "tags": []
          },
          "execution_count": 244
        }
      ]
    },
    {
      "cell_type": "code",
      "metadata": {
        "id": "9f9Vz4_qInpe"
      },
      "source": [
        "# df9[\"Purpose\"] = df9[\"Purpose\"].str.replace(('Debt Consolidation', 'Home Improvements', 'other',\n",
        "#        'Business Loan', 'small_business', 'Other', 'moving', 'Buy a Car',\n",
        "#        'Medical Bills', 'Buy House', 'Take a Trip', 'vacation',\n",
        "#        'major_purchase', 'Educational Expenses', 'wedding',\n",
        "#        'renewable_energy'),('0', '1', '2',\n",
        "#        '3', '4', '2', '5', '6',\n",
        "#        '7', '8', '9', '10',\n",
        "#        '11', '12', '13',\n",
        "#        '14'), regex = True)\n",
        "replace_values = {'Debt Consolidation' : 0, 'Home Improvements' : 1, 'other' : 2, 'Other' : 2,  'Business Loan' : 3, 'small_business' : 4, 'moving' : 5, 'Buy a Car' : 6, 'Medical Bills' : 7, 'Buy House' : 8, 'Take a Trip' : 9, 'vacation' : 10, 'major_purchase' : 11, 'Educational Expenses' : 12, 'wedding' : 13, 'renewable_energy' : 14}"
      ],
      "execution_count": null,
      "outputs": []
    },
    {
      "cell_type": "code",
      "metadata": {
        "id": "sH72S4pFJZBm"
      },
      "source": [
        "df6 = df6.replace({\"Purpose\": replace_values})"
      ],
      "execution_count": null,
      "outputs": []
    },
    {
      "cell_type": "code",
      "metadata": {
        "id": "f0THC3ZJOLH9"
      },
      "source": [
        "df6 = df6.drop('level_0', axis=1)"
      ],
      "execution_count": null,
      "outputs": []
    },
    {
      "cell_type": "code",
      "metadata": {
        "colab": {
          "base_uri": "https://localhost:8080/",
          "height": 490
        },
        "id": "72RWDECLOPRc",
        "outputId": "73fc94ec-8dc9-474f-b976-49716b46b22e"
      },
      "source": [
        "df6"
      ],
      "execution_count": null,
      "outputs": [
        {
          "output_type": "execute_result",
          "data": {
            "text/html": [
              "<div>\n",
              "<style scoped>\n",
              "    .dataframe tbody tr th:only-of-type {\n",
              "        vertical-align: middle;\n",
              "    }\n",
              "\n",
              "    .dataframe tbody tr th {\n",
              "        vertical-align: top;\n",
              "    }\n",
              "\n",
              "    .dataframe thead th {\n",
              "        text-align: right;\n",
              "    }\n",
              "</style>\n",
              "<table border=\"1\" class=\"dataframe\">\n",
              "  <thead>\n",
              "    <tr style=\"text-align: right;\">\n",
              "      <th></th>\n",
              "      <th>Loan Status</th>\n",
              "      <th>Current Loan Amount</th>\n",
              "      <th>Term</th>\n",
              "      <th>Credit Score</th>\n",
              "      <th>Years in current job</th>\n",
              "      <th>Home Ownership</th>\n",
              "      <th>Annual Income</th>\n",
              "      <th>Purpose</th>\n",
              "      <th>Monthly Debt</th>\n",
              "      <th>Years of Credit History</th>\n",
              "      <th>Months since last delinquent</th>\n",
              "      <th>Number of Open Accounts</th>\n",
              "      <th>Number of Credit Problems</th>\n",
              "      <th>Current Credit Balance</th>\n",
              "      <th>Maximum Open Credit</th>\n",
              "      <th>Bankruptcies</th>\n",
              "      <th>Tax Liens</th>\n",
              "    </tr>\n",
              "  </thead>\n",
              "  <tbody>\n",
              "    <tr>\n",
              "      <th>0</th>\n",
              "      <td>0</td>\n",
              "      <td>0.331817</td>\n",
              "      <td>0</td>\n",
              "      <td>0.747253</td>\n",
              "      <td>1.0</td>\n",
              "      <td>0.0</td>\n",
              "      <td>0.026318</td>\n",
              "      <td>0</td>\n",
              "      <td>0.000111</td>\n",
              "      <td>0.215247</td>\n",
              "      <td>0.056818</td>\n",
              "      <td>0.157895</td>\n",
              "      <td>0.000000</td>\n",
              "      <td>0.009893</td>\n",
              "      <td>0.033889</td>\n",
              "      <td>0.000000</td>\n",
              "      <td>0.0</td>\n",
              "    </tr>\n",
              "    <tr>\n",
              "      <th>1</th>\n",
              "      <td>0</td>\n",
              "      <td>0.693053</td>\n",
              "      <td>1</td>\n",
              "      <td>0.802198</td>\n",
              "      <td>11.0</td>\n",
              "      <td>2.0</td>\n",
              "      <td>0.047599</td>\n",
              "      <td>0</td>\n",
              "      <td>0.001111</td>\n",
              "      <td>0.345291</td>\n",
              "      <td>0.181818</td>\n",
              "      <td>0.184211</td>\n",
              "      <td>0.000000</td>\n",
              "      <td>0.052238</td>\n",
              "      <td>0.038889</td>\n",
              "      <td>0.000000</td>\n",
              "      <td>0.0</td>\n",
              "    </tr>\n",
              "    <tr>\n",
              "      <th>2</th>\n",
              "      <td>0</td>\n",
              "      <td>0.441612</td>\n",
              "      <td>0</td>\n",
              "      <td>0.703297</td>\n",
              "      <td>10.0</td>\n",
              "      <td>2.0</td>\n",
              "      <td>0.034838</td>\n",
              "      <td>1</td>\n",
              "      <td>0.000209</td>\n",
              "      <td>0.195815</td>\n",
              "      <td>0.181818</td>\n",
              "      <td>0.144737</td>\n",
              "      <td>0.066667</td>\n",
              "      <td>0.016495</td>\n",
              "      <td>0.054231</td>\n",
              "      <td>0.142857</td>\n",
              "      <td>0.0</td>\n",
              "    </tr>\n",
              "    <tr>\n",
              "      <th>3</th>\n",
              "      <td>0</td>\n",
              "      <td>0.317234</td>\n",
              "      <td>0</td>\n",
              "      <td>0.879121</td>\n",
              "      <td>4.0</td>\n",
              "      <td>0.0</td>\n",
              "      <td>0.018614</td>\n",
              "      <td>0</td>\n",
              "      <td>0.000619</td>\n",
              "      <td>0.095665</td>\n",
              "      <td>0.181818</td>\n",
              "      <td>0.276316</td>\n",
              "      <td>0.000000</td>\n",
              "      <td>0.010254</td>\n",
              "      <td>0.043199</td>\n",
              "      <td>0.000000</td>\n",
              "      <td>0.0</td>\n",
              "    </tr>\n",
              "    <tr>\n",
              "      <th>4</th>\n",
              "      <td>0</td>\n",
              "      <td>0.262774</td>\n",
              "      <td>1</td>\n",
              "      <td>0.285714</td>\n",
              "      <td>11.0</td>\n",
              "      <td>2.0</td>\n",
              "      <td>0.026540</td>\n",
              "      <td>1</td>\n",
              "      <td>0.000277</td>\n",
              "      <td>0.195815</td>\n",
              "      <td>0.142045</td>\n",
              "      <td>0.171053</td>\n",
              "      <td>0.066667</td>\n",
              "      <td>0.024744</td>\n",
              "      <td>0.021959</td>\n",
              "      <td>0.142857</td>\n",
              "      <td>0.0</td>\n",
              "    </tr>\n",
              "    <tr>\n",
              "      <th>...</th>\n",
              "      <td>...</td>\n",
              "      <td>...</td>\n",
              "      <td>...</td>\n",
              "      <td>...</td>\n",
              "      <td>...</td>\n",
              "      <td>...</td>\n",
              "      <td>...</td>\n",
              "      <td>...</td>\n",
              "      <td>...</td>\n",
              "      <td>...</td>\n",
              "      <td>...</td>\n",
              "      <td>...</td>\n",
              "      <td>...</td>\n",
              "      <td>...</td>\n",
              "      <td>...</td>\n",
              "      <td>...</td>\n",
              "      <td>...</td>\n",
              "    </tr>\n",
              "    <tr>\n",
              "      <th>105233</th>\n",
              "      <td>1</td>\n",
              "      <td>0.428527</td>\n",
              "      <td>1</td>\n",
              "      <td>0.285714</td>\n",
              "      <td>11.0</td>\n",
              "      <td>0.0</td>\n",
              "      <td>0.024098</td>\n",
              "      <td>0</td>\n",
              "      <td>0.000422</td>\n",
              "      <td>0.156951</td>\n",
              "      <td>0.278409</td>\n",
              "      <td>0.236842</td>\n",
              "      <td>0.000000</td>\n",
              "      <td>0.021550</td>\n",
              "      <td>0.038785</td>\n",
              "      <td>0.000000</td>\n",
              "      <td>0.0</td>\n",
              "    </tr>\n",
              "    <tr>\n",
              "      <th>105234</th>\n",
              "      <td>1</td>\n",
              "      <td>0.416742</td>\n",
              "      <td>0</td>\n",
              "      <td>0.505495</td>\n",
              "      <td>11.0</td>\n",
              "      <td>2.0</td>\n",
              "      <td>0.035153</td>\n",
              "      <td>0</td>\n",
              "      <td>0.000327</td>\n",
              "      <td>0.183857</td>\n",
              "      <td>0.272727</td>\n",
              "      <td>0.144737</td>\n",
              "      <td>0.000000</td>\n",
              "      <td>0.025943</td>\n",
              "      <td>0.030555</td>\n",
              "      <td>0.000000</td>\n",
              "      <td>0.0</td>\n",
              "    </tr>\n",
              "    <tr>\n",
              "      <th>105235</th>\n",
              "      <td>1</td>\n",
              "      <td>0.280409</td>\n",
              "      <td>0</td>\n",
              "      <td>0.648352</td>\n",
              "      <td>6.0</td>\n",
              "      <td>2.0</td>\n",
              "      <td>0.038857</td>\n",
              "      <td>0</td>\n",
              "      <td>0.000088</td>\n",
              "      <td>0.076233</td>\n",
              "      <td>0.181818</td>\n",
              "      <td>0.144737</td>\n",
              "      <td>0.000000</td>\n",
              "      <td>0.007615</td>\n",
              "      <td>0.052774</td>\n",
              "      <td>0.000000</td>\n",
              "      <td>0.0</td>\n",
              "    </tr>\n",
              "    <tr>\n",
              "      <th>105236</th>\n",
              "      <td>1</td>\n",
              "      <td>0.959643</td>\n",
              "      <td>0</td>\n",
              "      <td>0.703297</td>\n",
              "      <td>11.0</td>\n",
              "      <td>2.0</td>\n",
              "      <td>0.046139</td>\n",
              "      <td>0</td>\n",
              "      <td>0.000534</td>\n",
              "      <td>0.400598</td>\n",
              "      <td>0.051136</td>\n",
              "      <td>0.157895</td>\n",
              "      <td>0.000000</td>\n",
              "      <td>0.047281</td>\n",
              "      <td>0.064357</td>\n",
              "      <td>0.000000</td>\n",
              "      <td>0.0</td>\n",
              "    </tr>\n",
              "    <tr>\n",
              "      <th>105237</th>\n",
              "      <td>1</td>\n",
              "      <td>0.246383</td>\n",
              "      <td>1</td>\n",
              "      <td>0.527473</td>\n",
              "      <td>1.0</td>\n",
              "      <td>1.0</td>\n",
              "      <td>0.073759</td>\n",
              "      <td>0</td>\n",
              "      <td>0.000130</td>\n",
              "      <td>0.246637</td>\n",
              "      <td>0.090909</td>\n",
              "      <td>0.105263</td>\n",
              "      <td>0.000000</td>\n",
              "      <td>0.010000</td>\n",
              "      <td>0.029152</td>\n",
              "      <td>0.000000</td>\n",
              "      <td>0.0</td>\n",
              "    </tr>\n",
              "  </tbody>\n",
              "</table>\n",
              "<p>105238 rows × 17 columns</p>\n",
              "</div>"
            ],
            "text/plain": [
              "       Loan Status  Current Loan Amount  ... Bankruptcies  Tax Liens\n",
              "0                0             0.331817  ...     0.000000        0.0\n",
              "1                0             0.693053  ...     0.000000        0.0\n",
              "2                0             0.441612  ...     0.142857        0.0\n",
              "3                0             0.317234  ...     0.000000        0.0\n",
              "4                0             0.262774  ...     0.142857        0.0\n",
              "...            ...                  ...  ...          ...        ...\n",
              "105233           1             0.428527  ...     0.000000        0.0\n",
              "105234           1             0.416742  ...     0.000000        0.0\n",
              "105235           1             0.280409  ...     0.000000        0.0\n",
              "105236           1             0.959643  ...     0.000000        0.0\n",
              "105237           1             0.246383  ...     0.000000        0.0\n",
              "\n",
              "[105238 rows x 17 columns]"
            ]
          },
          "metadata": {
            "tags": []
          },
          "execution_count": 256
        }
      ]
    },
    {
      "cell_type": "code",
      "metadata": {
        "id": "L7XeXutCOoWk"
      },
      "source": [
        ""
      ],
      "execution_count": null,
      "outputs": []
    }
  ]
}